{
 "cells": [
  {
   "cell_type": "markdown",
   "id": "6d861a8b",
   "metadata": {},
   "source": [
    "## Random Forest"
   ]
  },
  {
   "cell_type": "markdown",
   "id": "4f5ec020",
   "metadata": {
    "ExecuteTime": {
     "end_time": "2023-03-17T01:28:56.474719Z",
     "start_time": "2023-03-17T01:28:56.465972Z"
    }
   },
   "source": [
    "> 📌 신용카드 가입해지 유무에 대한 데이터셋을 기반으로\n",
    "랜덤 포레스트를 적용하고, 하이퍼 파라미터 튜닝을 구현합니다.\n"
   ]
  },
  {
   "cell_type": "markdown",
   "id": "0085127e",
   "metadata": {},
   "source": [
    "### dataset"
   ]
  },
  {
   "cell_type": "code",
   "execution_count": 6,
   "id": "e016ca0b",
   "metadata": {
    "ExecuteTime": {
     "end_time": "2023-03-21T09:37:53.873908Z",
     "start_time": "2023-03-21T09:37:52.399524Z"
    }
   },
   "outputs": [
    {
     "data": {
      "text/html": [
       "<div>\n",
       "<style scoped>\n",
       "    .dataframe tbody tr th:only-of-type {\n",
       "        vertical-align: middle;\n",
       "    }\n",
       "\n",
       "    .dataframe tbody tr th {\n",
       "        vertical-align: top;\n",
       "    }\n",
       "\n",
       "    .dataframe thead th {\n",
       "        text-align: right;\n",
       "    }\n",
       "</style>\n",
       "<table border=\"1\" class=\"dataframe\">\n",
       "  <thead>\n",
       "    <tr style=\"text-align: right;\">\n",
       "      <th></th>\n",
       "      <th>CreditScore</th>\n",
       "      <th>Geography</th>\n",
       "      <th>Age</th>\n",
       "      <th>Tenure</th>\n",
       "      <th>Balance</th>\n",
       "      <th>NumOfProducts</th>\n",
       "      <th>HasCrCard</th>\n",
       "      <th>IsActiveMember</th>\n",
       "      <th>EstimatedSalary</th>\n",
       "      <th>Exited</th>\n",
       "    </tr>\n",
       "  </thead>\n",
       "  <tbody>\n",
       "    <tr>\n",
       "      <th>0</th>\n",
       "      <td>619</td>\n",
       "      <td>France</td>\n",
       "      <td>42</td>\n",
       "      <td>2</td>\n",
       "      <td>0.00</td>\n",
       "      <td>1</td>\n",
       "      <td>1</td>\n",
       "      <td>1</td>\n",
       "      <td>101348.88</td>\n",
       "      <td>1</td>\n",
       "    </tr>\n",
       "    <tr>\n",
       "      <th>1</th>\n",
       "      <td>608</td>\n",
       "      <td>Spain</td>\n",
       "      <td>41</td>\n",
       "      <td>1</td>\n",
       "      <td>83807.86</td>\n",
       "      <td>1</td>\n",
       "      <td>0</td>\n",
       "      <td>1</td>\n",
       "      <td>112542.58</td>\n",
       "      <td>0</td>\n",
       "    </tr>\n",
       "    <tr>\n",
       "      <th>2</th>\n",
       "      <td>502</td>\n",
       "      <td>France</td>\n",
       "      <td>42</td>\n",
       "      <td>8</td>\n",
       "      <td>159660.80</td>\n",
       "      <td>3</td>\n",
       "      <td>1</td>\n",
       "      <td>0</td>\n",
       "      <td>113931.57</td>\n",
       "      <td>1</td>\n",
       "    </tr>\n",
       "    <tr>\n",
       "      <th>3</th>\n",
       "      <td>699</td>\n",
       "      <td>France</td>\n",
       "      <td>39</td>\n",
       "      <td>1</td>\n",
       "      <td>0.00</td>\n",
       "      <td>2</td>\n",
       "      <td>0</td>\n",
       "      <td>0</td>\n",
       "      <td>93826.63</td>\n",
       "      <td>0</td>\n",
       "    </tr>\n",
       "    <tr>\n",
       "      <th>4</th>\n",
       "      <td>850</td>\n",
       "      <td>Spain</td>\n",
       "      <td>43</td>\n",
       "      <td>2</td>\n",
       "      <td>125510.82</td>\n",
       "      <td>1</td>\n",
       "      <td>1</td>\n",
       "      <td>1</td>\n",
       "      <td>79084.10</td>\n",
       "      <td>0</td>\n",
       "    </tr>\n",
       "    <tr>\n",
       "      <th>...</th>\n",
       "      <td>...</td>\n",
       "      <td>...</td>\n",
       "      <td>...</td>\n",
       "      <td>...</td>\n",
       "      <td>...</td>\n",
       "      <td>...</td>\n",
       "      <td>...</td>\n",
       "      <td>...</td>\n",
       "      <td>...</td>\n",
       "      <td>...</td>\n",
       "    </tr>\n",
       "    <tr>\n",
       "      <th>9995</th>\n",
       "      <td>771</td>\n",
       "      <td>France</td>\n",
       "      <td>39</td>\n",
       "      <td>5</td>\n",
       "      <td>0.00</td>\n",
       "      <td>2</td>\n",
       "      <td>1</td>\n",
       "      <td>0</td>\n",
       "      <td>96270.64</td>\n",
       "      <td>0</td>\n",
       "    </tr>\n",
       "    <tr>\n",
       "      <th>9996</th>\n",
       "      <td>516</td>\n",
       "      <td>France</td>\n",
       "      <td>35</td>\n",
       "      <td>10</td>\n",
       "      <td>57369.61</td>\n",
       "      <td>1</td>\n",
       "      <td>1</td>\n",
       "      <td>1</td>\n",
       "      <td>101699.77</td>\n",
       "      <td>0</td>\n",
       "    </tr>\n",
       "    <tr>\n",
       "      <th>9997</th>\n",
       "      <td>709</td>\n",
       "      <td>France</td>\n",
       "      <td>36</td>\n",
       "      <td>7</td>\n",
       "      <td>0.00</td>\n",
       "      <td>1</td>\n",
       "      <td>0</td>\n",
       "      <td>1</td>\n",
       "      <td>42085.58</td>\n",
       "      <td>1</td>\n",
       "    </tr>\n",
       "    <tr>\n",
       "      <th>9998</th>\n",
       "      <td>772</td>\n",
       "      <td>Germany</td>\n",
       "      <td>42</td>\n",
       "      <td>3</td>\n",
       "      <td>75075.31</td>\n",
       "      <td>2</td>\n",
       "      <td>1</td>\n",
       "      <td>0</td>\n",
       "      <td>92888.52</td>\n",
       "      <td>1</td>\n",
       "    </tr>\n",
       "    <tr>\n",
       "      <th>9999</th>\n",
       "      <td>792</td>\n",
       "      <td>France</td>\n",
       "      <td>28</td>\n",
       "      <td>4</td>\n",
       "      <td>130142.79</td>\n",
       "      <td>1</td>\n",
       "      <td>1</td>\n",
       "      <td>0</td>\n",
       "      <td>38190.78</td>\n",
       "      <td>0</td>\n",
       "    </tr>\n",
       "  </tbody>\n",
       "</table>\n",
       "<p>10000 rows × 10 columns</p>\n",
       "</div>"
      ],
      "text/plain": [
       "      CreditScore Geography  Age  Tenure    Balance  NumOfProducts  HasCrCard  \\\n",
       "0             619    France   42       2       0.00              1          1   \n",
       "1             608     Spain   41       1   83807.86              1          0   \n",
       "2             502    France   42       8  159660.80              3          1   \n",
       "3             699    France   39       1       0.00              2          0   \n",
       "4             850     Spain   43       2  125510.82              1          1   \n",
       "...           ...       ...  ...     ...        ...            ...        ...   \n",
       "9995          771    France   39       5       0.00              2          1   \n",
       "9996          516    France   35      10   57369.61              1          1   \n",
       "9997          709    France   36       7       0.00              1          0   \n",
       "9998          772   Germany   42       3   75075.31              2          1   \n",
       "9999          792    France   28       4  130142.79              1          1   \n",
       "\n",
       "      IsActiveMember  EstimatedSalary  Exited  \n",
       "0                  1        101348.88       1  \n",
       "1                  1        112542.58       0  \n",
       "2                  0        113931.57       1  \n",
       "3                  0         93826.63       0  \n",
       "4                  1         79084.10       0  \n",
       "...              ...              ...     ...  \n",
       "9995               0         96270.64       0  \n",
       "9996               1        101699.77       0  \n",
       "9997               1         42085.58       1  \n",
       "9998               0         92888.52       1  \n",
       "9999               0         38190.78       0  \n",
       "\n",
       "[10000 rows x 10 columns]"
      ]
     },
     "execution_count": 6,
     "metadata": {},
     "output_type": "execute_result"
    }
   ],
   "source": [
    "import pandas as pd\n",
    "\n",
    "# 가입해지 데이터\n",
    "df = pd.read_csv(\"./churn.csv\")\n",
    "df = df.drop(columns=[\"RowNumber\", \"CustomerId\", \"Surname\", \"Gender\"]) # drop unnecessary field\n",
    "df"
   ]
  },
  {
   "cell_type": "code",
   "execution_count": 7,
   "id": "e5530fe0",
   "metadata": {
    "ExecuteTime": {
     "end_time": "2023-03-21T09:37:56.686849Z",
     "start_time": "2023-03-21T09:37:55.653481Z"
    }
   },
   "outputs": [
    {
     "data": {
      "text/html": [
       "<style type=\"text/css\">\n",
       "#T_399f2_row0_col0, #T_399f2_row1_col1, #T_399f2_row2_col2, #T_399f2_row3_col3, #T_399f2_row4_col4, #T_399f2_row5_col5, #T_399f2_row6_col6, #T_399f2_row7_col7 {\n",
       "  background-color: #7fc97f;\n",
       "  color: #000000;\n",
       "}\n",
       "#T_399f2_row0_col1, #T_399f2_row0_col5, #T_399f2_row0_col7, #T_399f2_row1_col0, #T_399f2_row1_col2, #T_399f2_row1_col4, #T_399f2_row1_col5, #T_399f2_row1_col7, #T_399f2_row2_col1, #T_399f2_row2_col3, #T_399f2_row2_col6, #T_399f2_row3_col2, #T_399f2_row3_col5, #T_399f2_row3_col6, #T_399f2_row4_col1, #T_399f2_row5_col0, #T_399f2_row5_col1, #T_399f2_row5_col3, #T_399f2_row5_col6, #T_399f2_row5_col7, #T_399f2_row6_col2, #T_399f2_row6_col3, #T_399f2_row6_col5, #T_399f2_row6_col7, #T_399f2_row7_col0, #T_399f2_row7_col1, #T_399f2_row7_col5, #T_399f2_row7_col6 {\n",
       "  background-color: #386cb0;\n",
       "  color: #f1f1f1;\n",
       "}\n",
       "#T_399f2_row0_col2, #T_399f2_row0_col3, #T_399f2_row0_col4, #T_399f2_row0_col6, #T_399f2_row1_col3, #T_399f2_row1_col6, #T_399f2_row2_col0, #T_399f2_row2_col4, #T_399f2_row2_col5, #T_399f2_row2_col7, #T_399f2_row3_col0, #T_399f2_row3_col1, #T_399f2_row3_col7, #T_399f2_row4_col0, #T_399f2_row4_col2, #T_399f2_row4_col5, #T_399f2_row4_col6, #T_399f2_row4_col7, #T_399f2_row5_col2, #T_399f2_row5_col4, #T_399f2_row6_col0, #T_399f2_row6_col1, #T_399f2_row6_col4, #T_399f2_row7_col2, #T_399f2_row7_col3, #T_399f2_row7_col4 {\n",
       "  background-color: #ffff99;\n",
       "  color: #000000;\n",
       "}\n",
       "#T_399f2_row3_col4, #T_399f2_row4_col3 {\n",
       "  background-color: #f0027f;\n",
       "  color: #f1f1f1;\n",
       "}\n",
       "</style>\n",
       "<table id=\"T_399f2\">\n",
       "  <thead>\n",
       "    <tr>\n",
       "      <th class=\"blank level0\" >&nbsp;</th>\n",
       "      <th id=\"T_399f2_level0_col0\" class=\"col_heading level0 col0\" >CreditScore</th>\n",
       "      <th id=\"T_399f2_level0_col1\" class=\"col_heading level0 col1\" >Age</th>\n",
       "      <th id=\"T_399f2_level0_col2\" class=\"col_heading level0 col2\" >Tenure</th>\n",
       "      <th id=\"T_399f2_level0_col3\" class=\"col_heading level0 col3\" >Balance</th>\n",
       "      <th id=\"T_399f2_level0_col4\" class=\"col_heading level0 col4\" >NumOfProducts</th>\n",
       "      <th id=\"T_399f2_level0_col5\" class=\"col_heading level0 col5\" >HasCrCard</th>\n",
       "      <th id=\"T_399f2_level0_col6\" class=\"col_heading level0 col6\" >IsActiveMember</th>\n",
       "      <th id=\"T_399f2_level0_col7\" class=\"col_heading level0 col7\" >EstimatedSalary</th>\n",
       "    </tr>\n",
       "  </thead>\n",
       "  <tbody>\n",
       "    <tr>\n",
       "      <th id=\"T_399f2_level0_row0\" class=\"row_heading level0 row0\" >CreditScore</th>\n",
       "      <td id=\"T_399f2_row0_col0\" class=\"data row0 col0\" >1.000000</td>\n",
       "      <td id=\"T_399f2_row0_col1\" class=\"data row0 col1\" >-0.003965</td>\n",
       "      <td id=\"T_399f2_row0_col2\" class=\"data row0 col2\" >0.000842</td>\n",
       "      <td id=\"T_399f2_row0_col3\" class=\"data row0 col3\" >0.006268</td>\n",
       "      <td id=\"T_399f2_row0_col4\" class=\"data row0 col4\" >0.012238</td>\n",
       "      <td id=\"T_399f2_row0_col5\" class=\"data row0 col5\" >-0.005458</td>\n",
       "      <td id=\"T_399f2_row0_col6\" class=\"data row0 col6\" >0.025651</td>\n",
       "      <td id=\"T_399f2_row0_col7\" class=\"data row0 col7\" >-0.001384</td>\n",
       "    </tr>\n",
       "    <tr>\n",
       "      <th id=\"T_399f2_level0_row1\" class=\"row_heading level0 row1\" >Age</th>\n",
       "      <td id=\"T_399f2_row1_col0\" class=\"data row1 col0\" >-0.003965</td>\n",
       "      <td id=\"T_399f2_row1_col1\" class=\"data row1 col1\" >1.000000</td>\n",
       "      <td id=\"T_399f2_row1_col2\" class=\"data row1 col2\" >-0.009997</td>\n",
       "      <td id=\"T_399f2_row1_col3\" class=\"data row1 col3\" >0.028308</td>\n",
       "      <td id=\"T_399f2_row1_col4\" class=\"data row1 col4\" >-0.030680</td>\n",
       "      <td id=\"T_399f2_row1_col5\" class=\"data row1 col5\" >-0.011721</td>\n",
       "      <td id=\"T_399f2_row1_col6\" class=\"data row1 col6\" >0.085472</td>\n",
       "      <td id=\"T_399f2_row1_col7\" class=\"data row1 col7\" >-0.007201</td>\n",
       "    </tr>\n",
       "    <tr>\n",
       "      <th id=\"T_399f2_level0_row2\" class=\"row_heading level0 row2\" >Tenure</th>\n",
       "      <td id=\"T_399f2_row2_col0\" class=\"data row2 col0\" >0.000842</td>\n",
       "      <td id=\"T_399f2_row2_col1\" class=\"data row2 col1\" >-0.009997</td>\n",
       "      <td id=\"T_399f2_row2_col2\" class=\"data row2 col2\" >1.000000</td>\n",
       "      <td id=\"T_399f2_row2_col3\" class=\"data row2 col3\" >-0.012254</td>\n",
       "      <td id=\"T_399f2_row2_col4\" class=\"data row2 col4\" >0.013444</td>\n",
       "      <td id=\"T_399f2_row2_col5\" class=\"data row2 col5\" >0.022583</td>\n",
       "      <td id=\"T_399f2_row2_col6\" class=\"data row2 col6\" >-0.028362</td>\n",
       "      <td id=\"T_399f2_row2_col7\" class=\"data row2 col7\" >0.007784</td>\n",
       "    </tr>\n",
       "    <tr>\n",
       "      <th id=\"T_399f2_level0_row3\" class=\"row_heading level0 row3\" >Balance</th>\n",
       "      <td id=\"T_399f2_row3_col0\" class=\"data row3 col0\" >0.006268</td>\n",
       "      <td id=\"T_399f2_row3_col1\" class=\"data row3 col1\" >0.028308</td>\n",
       "      <td id=\"T_399f2_row3_col2\" class=\"data row3 col2\" >-0.012254</td>\n",
       "      <td id=\"T_399f2_row3_col3\" class=\"data row3 col3\" >1.000000</td>\n",
       "      <td id=\"T_399f2_row3_col4\" class=\"data row3 col4\" >-0.304180</td>\n",
       "      <td id=\"T_399f2_row3_col5\" class=\"data row3 col5\" >-0.014858</td>\n",
       "      <td id=\"T_399f2_row3_col6\" class=\"data row3 col6\" >-0.010084</td>\n",
       "      <td id=\"T_399f2_row3_col7\" class=\"data row3 col7\" >0.012797</td>\n",
       "    </tr>\n",
       "    <tr>\n",
       "      <th id=\"T_399f2_level0_row4\" class=\"row_heading level0 row4\" >NumOfProducts</th>\n",
       "      <td id=\"T_399f2_row4_col0\" class=\"data row4 col0\" >0.012238</td>\n",
       "      <td id=\"T_399f2_row4_col1\" class=\"data row4 col1\" >-0.030680</td>\n",
       "      <td id=\"T_399f2_row4_col2\" class=\"data row4 col2\" >0.013444</td>\n",
       "      <td id=\"T_399f2_row4_col3\" class=\"data row4 col3\" >-0.304180</td>\n",
       "      <td id=\"T_399f2_row4_col4\" class=\"data row4 col4\" >1.000000</td>\n",
       "      <td id=\"T_399f2_row4_col5\" class=\"data row4 col5\" >0.003183</td>\n",
       "      <td id=\"T_399f2_row4_col6\" class=\"data row4 col6\" >0.009612</td>\n",
       "      <td id=\"T_399f2_row4_col7\" class=\"data row4 col7\" >0.014204</td>\n",
       "    </tr>\n",
       "    <tr>\n",
       "      <th id=\"T_399f2_level0_row5\" class=\"row_heading level0 row5\" >HasCrCard</th>\n",
       "      <td id=\"T_399f2_row5_col0\" class=\"data row5 col0\" >-0.005458</td>\n",
       "      <td id=\"T_399f2_row5_col1\" class=\"data row5 col1\" >-0.011721</td>\n",
       "      <td id=\"T_399f2_row5_col2\" class=\"data row5 col2\" >0.022583</td>\n",
       "      <td id=\"T_399f2_row5_col3\" class=\"data row5 col3\" >-0.014858</td>\n",
       "      <td id=\"T_399f2_row5_col4\" class=\"data row5 col4\" >0.003183</td>\n",
       "      <td id=\"T_399f2_row5_col5\" class=\"data row5 col5\" >1.000000</td>\n",
       "      <td id=\"T_399f2_row5_col6\" class=\"data row5 col6\" >-0.011866</td>\n",
       "      <td id=\"T_399f2_row5_col7\" class=\"data row5 col7\" >-0.009933</td>\n",
       "    </tr>\n",
       "    <tr>\n",
       "      <th id=\"T_399f2_level0_row6\" class=\"row_heading level0 row6\" >IsActiveMember</th>\n",
       "      <td id=\"T_399f2_row6_col0\" class=\"data row6 col0\" >0.025651</td>\n",
       "      <td id=\"T_399f2_row6_col1\" class=\"data row6 col1\" >0.085472</td>\n",
       "      <td id=\"T_399f2_row6_col2\" class=\"data row6 col2\" >-0.028362</td>\n",
       "      <td id=\"T_399f2_row6_col3\" class=\"data row6 col3\" >-0.010084</td>\n",
       "      <td id=\"T_399f2_row6_col4\" class=\"data row6 col4\" >0.009612</td>\n",
       "      <td id=\"T_399f2_row6_col5\" class=\"data row6 col5\" >-0.011866</td>\n",
       "      <td id=\"T_399f2_row6_col6\" class=\"data row6 col6\" >1.000000</td>\n",
       "      <td id=\"T_399f2_row6_col7\" class=\"data row6 col7\" >-0.011421</td>\n",
       "    </tr>\n",
       "    <tr>\n",
       "      <th id=\"T_399f2_level0_row7\" class=\"row_heading level0 row7\" >EstimatedSalary</th>\n",
       "      <td id=\"T_399f2_row7_col0\" class=\"data row7 col0\" >-0.001384</td>\n",
       "      <td id=\"T_399f2_row7_col1\" class=\"data row7 col1\" >-0.007201</td>\n",
       "      <td id=\"T_399f2_row7_col2\" class=\"data row7 col2\" >0.007784</td>\n",
       "      <td id=\"T_399f2_row7_col3\" class=\"data row7 col3\" >0.012797</td>\n",
       "      <td id=\"T_399f2_row7_col4\" class=\"data row7 col4\" >0.014204</td>\n",
       "      <td id=\"T_399f2_row7_col5\" class=\"data row7 col5\" >-0.009933</td>\n",
       "      <td id=\"T_399f2_row7_col6\" class=\"data row7 col6\" >-0.011421</td>\n",
       "      <td id=\"T_399f2_row7_col7\" class=\"data row7 col7\" >1.000000</td>\n",
       "    </tr>\n",
       "  </tbody>\n",
       "</table>\n"
      ],
      "text/plain": [
       "<pandas.io.formats.style.Styler at 0x7f954d9ba160>"
      ]
     },
     "execution_count": 7,
     "metadata": {},
     "output_type": "execute_result"
    }
   ],
   "source": [
    "# 상관계수 확인\n",
    "corr = df.iloc[:, :-1].corr()\n",
    "corr.style.background_gradient(vmin=-0.99, vmax=0.99, cmap='Accent_r')"
   ]
  },
  {
   "cell_type": "markdown",
   "id": "4c6c0768",
   "metadata": {},
   "source": [
    "### preprocessing"
   ]
  },
  {
   "cell_type": "code",
   "execution_count": 8,
   "id": "fbecf752",
   "metadata": {
    "ExecuteTime": {
     "end_time": "2023-03-21T09:38:01.809916Z",
     "start_time": "2023-03-21T09:38:01.804000Z"
    }
   },
   "outputs": [
    {
     "data": {
      "text/plain": [
       "Index(['CreditScore', 'Geography', 'Age', 'Tenure', 'Balance', 'NumOfProducts',\n",
       "       'HasCrCard', 'IsActiveMember', 'EstimatedSalary', 'Exited'],\n",
       "      dtype='object')"
      ]
     },
     "execution_count": 8,
     "metadata": {},
     "output_type": "execute_result"
    }
   ],
   "source": [
    "df.columns"
   ]
  },
  {
   "cell_type": "code",
   "execution_count": 9,
   "id": "e47efb9a",
   "metadata": {
    "ExecuteTime": {
     "end_time": "2023-03-21T09:38:04.134462Z",
     "start_time": "2023-03-21T09:38:04.078035Z"
    }
   },
   "outputs": [
    {
     "data": {
      "text/html": [
       "<div>\n",
       "<style scoped>\n",
       "    .dataframe tbody tr th:only-of-type {\n",
       "        vertical-align: middle;\n",
       "    }\n",
       "\n",
       "    .dataframe tbody tr th {\n",
       "        vertical-align: top;\n",
       "    }\n",
       "\n",
       "    .dataframe thead th {\n",
       "        text-align: right;\n",
       "    }\n",
       "</style>\n",
       "<table border=\"1\" class=\"dataframe\">\n",
       "  <thead>\n",
       "    <tr style=\"text-align: right;\">\n",
       "      <th></th>\n",
       "      <th>CreditScore</th>\n",
       "      <th>Geography</th>\n",
       "      <th>Age</th>\n",
       "      <th>Tenure</th>\n",
       "      <th>Balance</th>\n",
       "      <th>NumOfProducts</th>\n",
       "      <th>HasCrCard</th>\n",
       "      <th>IsActiveMember</th>\n",
       "      <th>EstimatedSalary</th>\n",
       "      <th>Exited</th>\n",
       "    </tr>\n",
       "  </thead>\n",
       "  <tbody>\n",
       "    <tr>\n",
       "      <th>0</th>\n",
       "      <td>619</td>\n",
       "      <td>France</td>\n",
       "      <td>42</td>\n",
       "      <td>2</td>\n",
       "      <td>0.00</td>\n",
       "      <td>1</td>\n",
       "      <td>1</td>\n",
       "      <td>1</td>\n",
       "      <td>101348.88</td>\n",
       "      <td>1</td>\n",
       "    </tr>\n",
       "    <tr>\n",
       "      <th>1</th>\n",
       "      <td>608</td>\n",
       "      <td>Spain</td>\n",
       "      <td>41</td>\n",
       "      <td>1</td>\n",
       "      <td>83807.86</td>\n",
       "      <td>1</td>\n",
       "      <td>0</td>\n",
       "      <td>1</td>\n",
       "      <td>112542.58</td>\n",
       "      <td>0</td>\n",
       "    </tr>\n",
       "    <tr>\n",
       "      <th>2</th>\n",
       "      <td>502</td>\n",
       "      <td>France</td>\n",
       "      <td>42</td>\n",
       "      <td>8</td>\n",
       "      <td>159660.80</td>\n",
       "      <td>3</td>\n",
       "      <td>1</td>\n",
       "      <td>0</td>\n",
       "      <td>113931.57</td>\n",
       "      <td>1</td>\n",
       "    </tr>\n",
       "    <tr>\n",
       "      <th>3</th>\n",
       "      <td>699</td>\n",
       "      <td>France</td>\n",
       "      <td>39</td>\n",
       "      <td>1</td>\n",
       "      <td>0.00</td>\n",
       "      <td>2</td>\n",
       "      <td>0</td>\n",
       "      <td>0</td>\n",
       "      <td>93826.63</td>\n",
       "      <td>0</td>\n",
       "    </tr>\n",
       "    <tr>\n",
       "      <th>4</th>\n",
       "      <td>850</td>\n",
       "      <td>Spain</td>\n",
       "      <td>43</td>\n",
       "      <td>2</td>\n",
       "      <td>125510.82</td>\n",
       "      <td>1</td>\n",
       "      <td>1</td>\n",
       "      <td>1</td>\n",
       "      <td>79084.10</td>\n",
       "      <td>0</td>\n",
       "    </tr>\n",
       "    <tr>\n",
       "      <th>...</th>\n",
       "      <td>...</td>\n",
       "      <td>...</td>\n",
       "      <td>...</td>\n",
       "      <td>...</td>\n",
       "      <td>...</td>\n",
       "      <td>...</td>\n",
       "      <td>...</td>\n",
       "      <td>...</td>\n",
       "      <td>...</td>\n",
       "      <td>...</td>\n",
       "    </tr>\n",
       "    <tr>\n",
       "      <th>9995</th>\n",
       "      <td>771</td>\n",
       "      <td>France</td>\n",
       "      <td>39</td>\n",
       "      <td>5</td>\n",
       "      <td>0.00</td>\n",
       "      <td>2</td>\n",
       "      <td>1</td>\n",
       "      <td>0</td>\n",
       "      <td>96270.64</td>\n",
       "      <td>0</td>\n",
       "    </tr>\n",
       "    <tr>\n",
       "      <th>9996</th>\n",
       "      <td>516</td>\n",
       "      <td>France</td>\n",
       "      <td>35</td>\n",
       "      <td>10</td>\n",
       "      <td>57369.61</td>\n",
       "      <td>1</td>\n",
       "      <td>1</td>\n",
       "      <td>1</td>\n",
       "      <td>101699.77</td>\n",
       "      <td>0</td>\n",
       "    </tr>\n",
       "    <tr>\n",
       "      <th>9997</th>\n",
       "      <td>709</td>\n",
       "      <td>France</td>\n",
       "      <td>36</td>\n",
       "      <td>7</td>\n",
       "      <td>0.00</td>\n",
       "      <td>1</td>\n",
       "      <td>0</td>\n",
       "      <td>1</td>\n",
       "      <td>42085.58</td>\n",
       "      <td>1</td>\n",
       "    </tr>\n",
       "    <tr>\n",
       "      <th>9998</th>\n",
       "      <td>772</td>\n",
       "      <td>Germany</td>\n",
       "      <td>42</td>\n",
       "      <td>3</td>\n",
       "      <td>75075.31</td>\n",
       "      <td>2</td>\n",
       "      <td>1</td>\n",
       "      <td>0</td>\n",
       "      <td>92888.52</td>\n",
       "      <td>1</td>\n",
       "    </tr>\n",
       "    <tr>\n",
       "      <th>9999</th>\n",
       "      <td>792</td>\n",
       "      <td>France</td>\n",
       "      <td>28</td>\n",
       "      <td>4</td>\n",
       "      <td>130142.79</td>\n",
       "      <td>1</td>\n",
       "      <td>1</td>\n",
       "      <td>0</td>\n",
       "      <td>38190.78</td>\n",
       "      <td>0</td>\n",
       "    </tr>\n",
       "  </tbody>\n",
       "</table>\n",
       "<p>10000 rows × 10 columns</p>\n",
       "</div>"
      ],
      "text/plain": [
       "      CreditScore Geography  Age  Tenure    Balance  NumOfProducts  HasCrCard  \\\n",
       "0             619    France   42       2       0.00              1          1   \n",
       "1             608     Spain   41       1   83807.86              1          0   \n",
       "2             502    France   42       8  159660.80              3          1   \n",
       "3             699    France   39       1       0.00              2          0   \n",
       "4             850     Spain   43       2  125510.82              1          1   \n",
       "...           ...       ...  ...     ...        ...            ...        ...   \n",
       "9995          771    France   39       5       0.00              2          1   \n",
       "9996          516    France   35      10   57369.61              1          1   \n",
       "9997          709    France   36       7       0.00              1          0   \n",
       "9998          772   Germany   42       3   75075.31              2          1   \n",
       "9999          792    France   28       4  130142.79              1          1   \n",
       "\n",
       "      IsActiveMember  EstimatedSalary  Exited  \n",
       "0                  1        101348.88       1  \n",
       "1                  1        112542.58       0  \n",
       "2                  0        113931.57       1  \n",
       "3                  0         93826.63       0  \n",
       "4                  1         79084.10       0  \n",
       "...              ...              ...     ...  \n",
       "9995               0         96270.64       0  \n",
       "9996               1        101699.77       0  \n",
       "9997               1         42085.58       1  \n",
       "9998               0         92888.52       1  \n",
       "9999               0         38190.78       0  \n",
       "\n",
       "[10000 rows x 10 columns]"
      ]
     },
     "execution_count": 9,
     "metadata": {},
     "output_type": "execute_result"
    }
   ],
   "source": [
    "# 불필요한 컬럼 제외\n",
    "df = pd.read_csv(\"./churn.csv\")\n",
    "df = df.drop(columns=['RowNumber', 'CustomerId', 'Surname', 'Gender'])\n",
    "df"
   ]
  },
  {
   "cell_type": "markdown",
   "id": "fb3e41dd",
   "metadata": {},
   "source": [
    "#### encoding & scaling"
   ]
  },
  {
   "cell_type": "code",
   "execution_count": 10,
   "id": "6e6b6b31",
   "metadata": {
    "ExecuteTime": {
     "end_time": "2023-03-21T09:38:06.344183Z",
     "start_time": "2023-03-21T09:38:06.293866Z"
    }
   },
   "outputs": [
    {
     "data": {
      "text/html": [
       "<div>\n",
       "<style scoped>\n",
       "    .dataframe tbody tr th:only-of-type {\n",
       "        vertical-align: middle;\n",
       "    }\n",
       "\n",
       "    .dataframe tbody tr th {\n",
       "        vertical-align: top;\n",
       "    }\n",
       "\n",
       "    .dataframe thead th {\n",
       "        text-align: right;\n",
       "    }\n",
       "</style>\n",
       "<table border=\"1\" class=\"dataframe\">\n",
       "  <thead>\n",
       "    <tr style=\"text-align: right;\">\n",
       "      <th></th>\n",
       "      <th>CreditScore</th>\n",
       "      <th>Geography</th>\n",
       "      <th>Age</th>\n",
       "      <th>Tenure</th>\n",
       "      <th>Balance</th>\n",
       "      <th>NumOfProducts</th>\n",
       "      <th>HasCrCard</th>\n",
       "      <th>IsActiveMember</th>\n",
       "      <th>EstimatedSalary</th>\n",
       "      <th>Exited</th>\n",
       "    </tr>\n",
       "  </thead>\n",
       "  <tbody>\n",
       "    <tr>\n",
       "      <th>0</th>\n",
       "      <td>-0.326221</td>\n",
       "      <td>0.0</td>\n",
       "      <td>42</td>\n",
       "      <td>2</td>\n",
       "      <td>-1.225848</td>\n",
       "      <td>1</td>\n",
       "      <td>1</td>\n",
       "      <td>1</td>\n",
       "      <td>0.021886</td>\n",
       "      <td>1</td>\n",
       "    </tr>\n",
       "    <tr>\n",
       "      <th>1</th>\n",
       "      <td>-0.440036</td>\n",
       "      <td>2.0</td>\n",
       "      <td>41</td>\n",
       "      <td>1</td>\n",
       "      <td>0.117350</td>\n",
       "      <td>1</td>\n",
       "      <td>0</td>\n",
       "      <td>1</td>\n",
       "      <td>0.216534</td>\n",
       "      <td>0</td>\n",
       "    </tr>\n",
       "    <tr>\n",
       "      <th>2</th>\n",
       "      <td>-1.536794</td>\n",
       "      <td>0.0</td>\n",
       "      <td>42</td>\n",
       "      <td>8</td>\n",
       "      <td>1.333053</td>\n",
       "      <td>3</td>\n",
       "      <td>1</td>\n",
       "      <td>0</td>\n",
       "      <td>0.240687</td>\n",
       "      <td>1</td>\n",
       "    </tr>\n",
       "    <tr>\n",
       "      <th>3</th>\n",
       "      <td>0.501521</td>\n",
       "      <td>0.0</td>\n",
       "      <td>39</td>\n",
       "      <td>1</td>\n",
       "      <td>-1.225848</td>\n",
       "      <td>2</td>\n",
       "      <td>0</td>\n",
       "      <td>0</td>\n",
       "      <td>-0.108918</td>\n",
       "      <td>0</td>\n",
       "    </tr>\n",
       "    <tr>\n",
       "      <th>4</th>\n",
       "      <td>2.063884</td>\n",
       "      <td>2.0</td>\n",
       "      <td>43</td>\n",
       "      <td>2</td>\n",
       "      <td>0.785728</td>\n",
       "      <td>1</td>\n",
       "      <td>1</td>\n",
       "      <td>1</td>\n",
       "      <td>-0.365276</td>\n",
       "      <td>0</td>\n",
       "    </tr>\n",
       "    <tr>\n",
       "      <th>...</th>\n",
       "      <td>...</td>\n",
       "      <td>...</td>\n",
       "      <td>...</td>\n",
       "      <td>...</td>\n",
       "      <td>...</td>\n",
       "      <td>...</td>\n",
       "      <td>...</td>\n",
       "      <td>...</td>\n",
       "      <td>...</td>\n",
       "      <td>...</td>\n",
       "    </tr>\n",
       "    <tr>\n",
       "      <th>9995</th>\n",
       "      <td>1.246488</td>\n",
       "      <td>0.0</td>\n",
       "      <td>39</td>\n",
       "      <td>5</td>\n",
       "      <td>-1.225848</td>\n",
       "      <td>2</td>\n",
       "      <td>1</td>\n",
       "      <td>0</td>\n",
       "      <td>-0.066419</td>\n",
       "      <td>0</td>\n",
       "    </tr>\n",
       "    <tr>\n",
       "      <th>9996</th>\n",
       "      <td>-1.391939</td>\n",
       "      <td>0.0</td>\n",
       "      <td>35</td>\n",
       "      <td>10</td>\n",
       "      <td>-0.306379</td>\n",
       "      <td>1</td>\n",
       "      <td>1</td>\n",
       "      <td>1</td>\n",
       "      <td>0.027988</td>\n",
       "      <td>0</td>\n",
       "    </tr>\n",
       "    <tr>\n",
       "      <th>9997</th>\n",
       "      <td>0.604988</td>\n",
       "      <td>0.0</td>\n",
       "      <td>36</td>\n",
       "      <td>7</td>\n",
       "      <td>-1.225848</td>\n",
       "      <td>1</td>\n",
       "      <td>0</td>\n",
       "      <td>1</td>\n",
       "      <td>-1.008643</td>\n",
       "      <td>1</td>\n",
       "    </tr>\n",
       "    <tr>\n",
       "      <th>9998</th>\n",
       "      <td>1.256835</td>\n",
       "      <td>1.0</td>\n",
       "      <td>42</td>\n",
       "      <td>3</td>\n",
       "      <td>-0.022608</td>\n",
       "      <td>2</td>\n",
       "      <td>1</td>\n",
       "      <td>0</td>\n",
       "      <td>-0.125231</td>\n",
       "      <td>1</td>\n",
       "    </tr>\n",
       "    <tr>\n",
       "      <th>9999</th>\n",
       "      <td>1.463771</td>\n",
       "      <td>0.0</td>\n",
       "      <td>28</td>\n",
       "      <td>4</td>\n",
       "      <td>0.859965</td>\n",
       "      <td>1</td>\n",
       "      <td>1</td>\n",
       "      <td>0</td>\n",
       "      <td>-1.076370</td>\n",
       "      <td>0</td>\n",
       "    </tr>\n",
       "  </tbody>\n",
       "</table>\n",
       "<p>10000 rows × 10 columns</p>\n",
       "</div>"
      ],
      "text/plain": [
       "      CreditScore  Geography  Age  Tenure   Balance  NumOfProducts  HasCrCard  \\\n",
       "0       -0.326221        0.0   42       2 -1.225848              1          1   \n",
       "1       -0.440036        2.0   41       1  0.117350              1          0   \n",
       "2       -1.536794        0.0   42       8  1.333053              3          1   \n",
       "3        0.501521        0.0   39       1 -1.225848              2          0   \n",
       "4        2.063884        2.0   43       2  0.785728              1          1   \n",
       "...           ...        ...  ...     ...       ...            ...        ...   \n",
       "9995     1.246488        0.0   39       5 -1.225848              2          1   \n",
       "9996    -1.391939        0.0   35      10 -0.306379              1          1   \n",
       "9997     0.604988        0.0   36       7 -1.225848              1          0   \n",
       "9998     1.256835        1.0   42       3 -0.022608              2          1   \n",
       "9999     1.463771        0.0   28       4  0.859965              1          1   \n",
       "\n",
       "      IsActiveMember  EstimatedSalary  Exited  \n",
       "0                  1         0.021886       1  \n",
       "1                  1         0.216534       0  \n",
       "2                  0         0.240687       1  \n",
       "3                  0        -0.108918       0  \n",
       "4                  1        -0.365276       0  \n",
       "...              ...              ...     ...  \n",
       "9995               0        -0.066419       0  \n",
       "9996               1         0.027988       0  \n",
       "9997               1        -1.008643       1  \n",
       "9998               0        -0.125231       1  \n",
       "9999               0        -1.076370       0  \n",
       "\n",
       "[10000 rows x 10 columns]"
      ]
     },
     "execution_count": 10,
     "metadata": {},
     "output_type": "execute_result"
    }
   ],
   "source": [
    "# encoder\n",
    "from sklearn.preprocessing import OrdinalEncoder, LabelEncoder\n",
    "enc = OrdinalEncoder()\n",
    "df['Geography'] = enc.fit_transform(df[['Geography']])\n",
    "\n",
    "# std scaler (트리 기반 모델은 scaler가 의미 없지만 regression모델을 고려하여 적용)\n",
    "from sklearn.preprocessing import StandardScaler\n",
    "scaler = StandardScaler()\n",
    "scaler.fit(df[['CreditScore', 'Balance', 'EstimatedSalary']])\n",
    "transformed = scaler.transform(df[['CreditScore', 'Balance', 'EstimatedSalary']])\n",
    "\n",
    "# apply\n",
    "df.loc[:, ['CreditScore', 'Balance', 'EstimatedSalary']] = transformed\n",
    "df"
   ]
  },
  {
   "cell_type": "markdown",
   "id": "aa8755b4",
   "metadata": {},
   "source": [
    "#### data split"
   ]
  },
  {
   "cell_type": "code",
   "execution_count": 11,
   "id": "79b5f04f",
   "metadata": {
    "ExecuteTime": {
     "end_time": "2023-03-21T09:38:09.061502Z",
     "start_time": "2023-03-21T09:38:09.048711Z"
    }
   },
   "outputs": [],
   "source": [
    "# Data Split\n",
    "X = df.iloc[:, :-1].values\n",
    "y = df['Exited'].values\n",
    "\n",
    "# split\n",
    "from sklearn.model_selection import train_test_split\n",
    "train_x, test_x, train_y, test_y = train_test_split(X, y, test_size=0.2, random_state=42)"
   ]
  },
  {
   "cell_type": "code",
   "execution_count": 12,
   "id": "50301c2b",
   "metadata": {
    "ExecuteTime": {
     "end_time": "2023-03-21T09:38:09.831553Z",
     "start_time": "2023-03-21T09:38:09.825480Z"
    }
   },
   "outputs": [
    {
     "data": {
      "text/plain": [
       "((8000, 9), (8000,))"
      ]
     },
     "execution_count": 12,
     "metadata": {},
     "output_type": "execute_result"
    }
   ],
   "source": [
    "# check split\n",
    "train_x.shape, train_y.shape"
   ]
  },
  {
   "cell_type": "markdown",
   "id": "6c0d6452",
   "metadata": {},
   "source": [
    "#### model selection"
   ]
  },
  {
   "cell_type": "code",
   "execution_count": 13,
   "id": "df9a2874",
   "metadata": {
    "ExecuteTime": {
     "end_time": "2023-03-21T09:38:11.200730Z",
     "start_time": "2023-03-21T09:38:11.194948Z"
    }
   },
   "outputs": [],
   "source": [
    "# SVM, RandomForest 비교 및 두 모델 Voting\n",
    "\n",
    "from sklearn.svm import SVC\n",
    "from sklearn.ensemble import RandomForestClassifier\n",
    "from sklearn.ensemble import VotingClassifier\n",
    "\n",
    "ranfo_model = RandomForestClassifier(random_state=42)\n",
    "svm_model = SVC(C=10, gamma='auto', random_state=42)\n",
    "\n",
    "voting_model = VotingClassifier(\n",
    "    estimators=[('rf', ranfo_model), ('svm', svm_model)], \n",
    "    voting='hard'\n",
    "    )"
   ]
  },
  {
   "cell_type": "code",
   "execution_count": 14,
   "id": "7feed1f3",
   "metadata": {
    "ExecuteTime": {
     "end_time": "2023-03-21T09:38:24.479722Z",
     "start_time": "2023-03-21T09:38:11.967620Z"
    }
   },
   "outputs": [
    {
     "name": "stdout",
     "output_type": "stream",
     "text": [
      "RandomForestClassifier : 0.7148060885027496\n",
      "[[1545   62]\n",
      " [ 209  184]]\n",
      "\n",
      "SVC : 0.6892713335898447\n",
      "[[1512   95]\n",
      " [ 221  172]]\n",
      "\n",
      "VotingClassifier : 0.6790164214766503\n",
      "[[1569   38]\n",
      " [ 243  150]]\n",
      "\n"
     ]
    }
   ],
   "source": [
    "# 모델 성능 비교\n",
    "from sklearn.metrics import recall_score, f1_score\n",
    "# confusion matrix\n",
    "from sklearn.metrics import confusion_matrix\n",
    "\n",
    "for model in [ranfo_model, svm_model, voting_model]:\n",
    "    model.fit(train_x, train_y)\n",
    "    pred = model.predict(test_x)\n",
    "    recall = recall_score(test_y, pred, average='macro')\n",
    "    \n",
    "    print(model.__class__.__name__,\":\", recall)\n",
    "    print(confusion_matrix(test_y, pred), end='\\n\\n')"
   ]
  },
  {
   "cell_type": "markdown",
   "id": "3bb08aff",
   "metadata": {},
   "source": [
    "#### check feature importances "
   ]
  },
  {
   "cell_type": "code",
   "execution_count": 15,
   "id": "31c5b59e",
   "metadata": {
    "ExecuteTime": {
     "end_time": "2023-03-21T09:38:31.367818Z",
     "start_time": "2023-03-21T09:38:30.413756Z"
    }
   },
   "outputs": [
    {
     "data": {
      "text/html": [
       "<style>#sk-container-id-4 {color: black;background-color: white;}#sk-container-id-4 pre{padding: 0;}#sk-container-id-4 div.sk-toggleable {background-color: white;}#sk-container-id-4 label.sk-toggleable__label {cursor: pointer;display: block;width: 100%;margin-bottom: 0;padding: 0.3em;box-sizing: border-box;text-align: center;}#sk-container-id-4 label.sk-toggleable__label-arrow:before {content: \"▸\";float: left;margin-right: 0.25em;color: #696969;}#sk-container-id-4 label.sk-toggleable__label-arrow:hover:before {color: black;}#sk-container-id-4 div.sk-estimator:hover label.sk-toggleable__label-arrow:before {color: black;}#sk-container-id-4 div.sk-toggleable__content {max-height: 0;max-width: 0;overflow: hidden;text-align: left;background-color: #f0f8ff;}#sk-container-id-4 div.sk-toggleable__content pre {margin: 0.2em;color: black;border-radius: 0.25em;background-color: #f0f8ff;}#sk-container-id-4 input.sk-toggleable__control:checked~div.sk-toggleable__content {max-height: 200px;max-width: 100%;overflow: auto;}#sk-container-id-4 input.sk-toggleable__control:checked~label.sk-toggleable__label-arrow:before {content: \"▾\";}#sk-container-id-4 div.sk-estimator input.sk-toggleable__control:checked~label.sk-toggleable__label {background-color: #d4ebff;}#sk-container-id-4 div.sk-label input.sk-toggleable__control:checked~label.sk-toggleable__label {background-color: #d4ebff;}#sk-container-id-4 input.sk-hidden--visually {border: 0;clip: rect(1px 1px 1px 1px);clip: rect(1px, 1px, 1px, 1px);height: 1px;margin: -1px;overflow: hidden;padding: 0;position: absolute;width: 1px;}#sk-container-id-4 div.sk-estimator {font-family: monospace;background-color: #f0f8ff;border: 1px dotted black;border-radius: 0.25em;box-sizing: border-box;margin-bottom: 0.5em;}#sk-container-id-4 div.sk-estimator:hover {background-color: #d4ebff;}#sk-container-id-4 div.sk-parallel-item::after {content: \"\";width: 100%;border-bottom: 1px solid gray;flex-grow: 1;}#sk-container-id-4 div.sk-label:hover label.sk-toggleable__label {background-color: #d4ebff;}#sk-container-id-4 div.sk-serial::before {content: \"\";position: absolute;border-left: 1px solid gray;box-sizing: border-box;top: 0;bottom: 0;left: 50%;z-index: 0;}#sk-container-id-4 div.sk-serial {display: flex;flex-direction: column;align-items: center;background-color: white;padding-right: 0.2em;padding-left: 0.2em;position: relative;}#sk-container-id-4 div.sk-item {position: relative;z-index: 1;}#sk-container-id-4 div.sk-parallel {display: flex;align-items: stretch;justify-content: center;background-color: white;position: relative;}#sk-container-id-4 div.sk-item::before, #sk-container-id-4 div.sk-parallel-item::before {content: \"\";position: absolute;border-left: 1px solid gray;box-sizing: border-box;top: 0;bottom: 0;left: 50%;z-index: -1;}#sk-container-id-4 div.sk-parallel-item {display: flex;flex-direction: column;z-index: 1;position: relative;background-color: white;}#sk-container-id-4 div.sk-parallel-item:first-child::after {align-self: flex-end;width: 50%;}#sk-container-id-4 div.sk-parallel-item:last-child::after {align-self: flex-start;width: 50%;}#sk-container-id-4 div.sk-parallel-item:only-child::after {width: 0;}#sk-container-id-4 div.sk-dashed-wrapped {border: 1px dashed gray;margin: 0 0.4em 0.5em 0.4em;box-sizing: border-box;padding-bottom: 0.4em;background-color: white;}#sk-container-id-4 div.sk-label label {font-family: monospace;font-weight: bold;display: inline-block;line-height: 1.2em;}#sk-container-id-4 div.sk-label-container {text-align: center;}#sk-container-id-4 div.sk-container {/* jupyter's `normalize.less` sets `[hidden] { display: none; }` but bootstrap.min.css set `[hidden] { display: none !important; }` so we also need the `!important` here to be able to override the default hidden behavior on the sphinx rendered scikit-learn.org. See: https://github.com/scikit-learn/scikit-learn/issues/21755 */display: inline-block !important;position: relative;}#sk-container-id-4 div.sk-text-repr-fallback {display: none;}</style><div id=\"sk-container-id-4\" class=\"sk-top-container\"><div class=\"sk-text-repr-fallback\"><pre>RandomForestClassifier(random_state=42)</pre><b>In a Jupyter environment, please rerun this cell to show the HTML representation or trust the notebook. <br />On GitHub, the HTML representation is unable to render, please try loading this page with nbviewer.org.</b></div><div class=\"sk-container\" hidden><div class=\"sk-item\"><div class=\"sk-estimator sk-toggleable\"><input class=\"sk-toggleable__control sk-hidden--visually\" id=\"sk-estimator-id-4\" type=\"checkbox\" checked><label for=\"sk-estimator-id-4\" class=\"sk-toggleable__label sk-toggleable__label-arrow\">RandomForestClassifier</label><div class=\"sk-toggleable__content\"><pre>RandomForestClassifier(random_state=42)</pre></div></div></div></div></div>"
      ],
      "text/plain": [
       "RandomForestClassifier(random_state=42)"
      ]
     },
     "execution_count": 15,
     "metadata": {},
     "output_type": "execute_result"
    }
   ],
   "source": [
    "# 랜덤 포레스트\n",
    "model = RandomForestClassifier(random_state=42)\n",
    "model.fit(train_x, train_y)"
   ]
  },
  {
   "cell_type": "code",
   "execution_count": 16,
   "id": "2bc2fe27",
   "metadata": {
    "ExecuteTime": {
     "end_time": "2023-03-21T09:38:32.037371Z",
     "start_time": "2023-03-21T09:38:31.985625Z"
    },
    "scrolled": true
   },
   "outputs": [
    {
     "data": {
      "text/html": [
       "<style type=\"text/css\">\n",
       "#T_55219_row0_col0, #T_55219_row0_col2, #T_55219_row0_col4, #T_55219_row0_col5, #T_55219_row0_col8 {\n",
       "  background-color: #bf5b17;\n",
       "  color: #f1f1f1;\n",
       "}\n",
       "#T_55219_row0_col1, #T_55219_row0_col3, #T_55219_row0_col6, #T_55219_row0_col7 {\n",
       "  background-color: #666666;\n",
       "  color: #f1f1f1;\n",
       "}\n",
       "</style>\n",
       "<table id=\"T_55219\">\n",
       "  <thead>\n",
       "    <tr>\n",
       "      <th class=\"blank level0\" >&nbsp;</th>\n",
       "      <th id=\"T_55219_level0_col0\" class=\"col_heading level0 col0\" >CreditScore</th>\n",
       "      <th id=\"T_55219_level0_col1\" class=\"col_heading level0 col1\" >Geography</th>\n",
       "      <th id=\"T_55219_level0_col2\" class=\"col_heading level0 col2\" >Age</th>\n",
       "      <th id=\"T_55219_level0_col3\" class=\"col_heading level0 col3\" >Tenure</th>\n",
       "      <th id=\"T_55219_level0_col4\" class=\"col_heading level0 col4\" >Balance</th>\n",
       "      <th id=\"T_55219_level0_col5\" class=\"col_heading level0 col5\" >NumOfProducts</th>\n",
       "      <th id=\"T_55219_level0_col6\" class=\"col_heading level0 col6\" >HasCrCard</th>\n",
       "      <th id=\"T_55219_level0_col7\" class=\"col_heading level0 col7\" >IsActiveMember</th>\n",
       "      <th id=\"T_55219_level0_col8\" class=\"col_heading level0 col8\" >EstimatedSalary</th>\n",
       "    </tr>\n",
       "  </thead>\n",
       "  <tbody>\n",
       "    <tr>\n",
       "      <th id=\"T_55219_level0_row0\" class=\"row_heading level0 row0\" >0</th>\n",
       "      <td id=\"T_55219_row0_col0\" class=\"data row0 col0\" >0.146992</td>\n",
       "      <td id=\"T_55219_row0_col1\" class=\"data row0 col1\" >0.035797</td>\n",
       "      <td id=\"T_55219_row0_col2\" class=\"data row0 col2\" >0.240684</td>\n",
       "      <td id=\"T_55219_row0_col3\" class=\"data row0 col3\" >0.082813</td>\n",
       "      <td id=\"T_55219_row0_col4\" class=\"data row0 col4\" >0.144879</td>\n",
       "      <td id=\"T_55219_row0_col5\" class=\"data row0 col5\" >0.132991</td>\n",
       "      <td id=\"T_55219_row0_col6\" class=\"data row0 col6\" >0.018474</td>\n",
       "      <td id=\"T_55219_row0_col7\" class=\"data row0 col7\" >0.043880</td>\n",
       "      <td id=\"T_55219_row0_col8\" class=\"data row0 col8\" >0.153490</td>\n",
       "    </tr>\n",
       "  </tbody>\n",
       "</table>\n"
      ],
      "text/plain": [
       "<pandas.io.formats.style.Styler at 0x7f9551065eb0>"
      ]
     },
     "execution_count": 16,
     "metadata": {},
     "output_type": "execute_result"
    }
   ],
   "source": [
    "# feature importances\n",
    "col_names = list(df.columns[:-1])\n",
    "importances = pd.DataFrame(ranfo_model.feature_importances_.reshape(ranfo_model.n_features_in_, -1)).T\n",
    "importances.columns = col_names\n",
    "importances.style.background_gradient(vmin=0, vmax=1, cmap='Accent_r')"
   ]
  },
  {
   "cell_type": "markdown",
   "id": "d28a8c5d",
   "metadata": {},
   "source": [
    "`Geography, Tenure, HasCrCard, IsActiveMember 필드 드랍 시도`  \n",
    "-> 드랍 결과 성능이 오히려 떨어졌음"
   ]
  },
  {
   "cell_type": "markdown",
   "id": "b0e0c2f6",
   "metadata": {},
   "source": [
    "---"
   ]
  },
  {
   "cell_type": "markdown",
   "id": "7f1e0164",
   "metadata": {},
   "source": [
    "#### Set Pipeline "
   ]
  },
  {
   "cell_type": "code",
   "execution_count": 17,
   "id": "e34c8716",
   "metadata": {
    "ExecuteTime": {
     "end_time": "2023-03-21T09:38:40.891254Z",
     "start_time": "2023-03-21T09:38:40.844304Z"
    }
   },
   "outputs": [
    {
     "data": {
      "text/html": [
       "<div>\n",
       "<style scoped>\n",
       "    .dataframe tbody tr th:only-of-type {\n",
       "        vertical-align: middle;\n",
       "    }\n",
       "\n",
       "    .dataframe tbody tr th {\n",
       "        vertical-align: top;\n",
       "    }\n",
       "\n",
       "    .dataframe thead th {\n",
       "        text-align: right;\n",
       "    }\n",
       "</style>\n",
       "<table border=\"1\" class=\"dataframe\">\n",
       "  <thead>\n",
       "    <tr style=\"text-align: right;\">\n",
       "      <th></th>\n",
       "      <th>RowNumber</th>\n",
       "      <th>CustomerId</th>\n",
       "      <th>Surname</th>\n",
       "      <th>CreditScore</th>\n",
       "      <th>Geography</th>\n",
       "      <th>Gender</th>\n",
       "      <th>Age</th>\n",
       "      <th>Tenure</th>\n",
       "      <th>Balance</th>\n",
       "      <th>NumOfProducts</th>\n",
       "      <th>HasCrCard</th>\n",
       "      <th>IsActiveMember</th>\n",
       "      <th>EstimatedSalary</th>\n",
       "      <th>Exited</th>\n",
       "    </tr>\n",
       "  </thead>\n",
       "  <tbody>\n",
       "    <tr>\n",
       "      <th>0</th>\n",
       "      <td>1</td>\n",
       "      <td>15634602</td>\n",
       "      <td>Hargrave</td>\n",
       "      <td>619</td>\n",
       "      <td>France</td>\n",
       "      <td>Female</td>\n",
       "      <td>42</td>\n",
       "      <td>2</td>\n",
       "      <td>0.00</td>\n",
       "      <td>1</td>\n",
       "      <td>1</td>\n",
       "      <td>1</td>\n",
       "      <td>101348.88</td>\n",
       "      <td>1</td>\n",
       "    </tr>\n",
       "    <tr>\n",
       "      <th>1</th>\n",
       "      <td>2</td>\n",
       "      <td>15647311</td>\n",
       "      <td>Hill</td>\n",
       "      <td>608</td>\n",
       "      <td>Spain</td>\n",
       "      <td>Female</td>\n",
       "      <td>41</td>\n",
       "      <td>1</td>\n",
       "      <td>83807.86</td>\n",
       "      <td>1</td>\n",
       "      <td>0</td>\n",
       "      <td>1</td>\n",
       "      <td>112542.58</td>\n",
       "      <td>0</td>\n",
       "    </tr>\n",
       "    <tr>\n",
       "      <th>2</th>\n",
       "      <td>3</td>\n",
       "      <td>15619304</td>\n",
       "      <td>Onio</td>\n",
       "      <td>502</td>\n",
       "      <td>France</td>\n",
       "      <td>Female</td>\n",
       "      <td>42</td>\n",
       "      <td>8</td>\n",
       "      <td>159660.80</td>\n",
       "      <td>3</td>\n",
       "      <td>1</td>\n",
       "      <td>0</td>\n",
       "      <td>113931.57</td>\n",
       "      <td>1</td>\n",
       "    </tr>\n",
       "    <tr>\n",
       "      <th>3</th>\n",
       "      <td>4</td>\n",
       "      <td>15701354</td>\n",
       "      <td>Boni</td>\n",
       "      <td>699</td>\n",
       "      <td>France</td>\n",
       "      <td>Female</td>\n",
       "      <td>39</td>\n",
       "      <td>1</td>\n",
       "      <td>0.00</td>\n",
       "      <td>2</td>\n",
       "      <td>0</td>\n",
       "      <td>0</td>\n",
       "      <td>93826.63</td>\n",
       "      <td>0</td>\n",
       "    </tr>\n",
       "    <tr>\n",
       "      <th>4</th>\n",
       "      <td>5</td>\n",
       "      <td>15737888</td>\n",
       "      <td>Mitchell</td>\n",
       "      <td>850</td>\n",
       "      <td>Spain</td>\n",
       "      <td>Female</td>\n",
       "      <td>43</td>\n",
       "      <td>2</td>\n",
       "      <td>125510.82</td>\n",
       "      <td>1</td>\n",
       "      <td>1</td>\n",
       "      <td>1</td>\n",
       "      <td>79084.10</td>\n",
       "      <td>0</td>\n",
       "    </tr>\n",
       "    <tr>\n",
       "      <th>...</th>\n",
       "      <td>...</td>\n",
       "      <td>...</td>\n",
       "      <td>...</td>\n",
       "      <td>...</td>\n",
       "      <td>...</td>\n",
       "      <td>...</td>\n",
       "      <td>...</td>\n",
       "      <td>...</td>\n",
       "      <td>...</td>\n",
       "      <td>...</td>\n",
       "      <td>...</td>\n",
       "      <td>...</td>\n",
       "      <td>...</td>\n",
       "      <td>...</td>\n",
       "    </tr>\n",
       "    <tr>\n",
       "      <th>9995</th>\n",
       "      <td>9996</td>\n",
       "      <td>15606229</td>\n",
       "      <td>Obijiaku</td>\n",
       "      <td>771</td>\n",
       "      <td>France</td>\n",
       "      <td>Male</td>\n",
       "      <td>39</td>\n",
       "      <td>5</td>\n",
       "      <td>0.00</td>\n",
       "      <td>2</td>\n",
       "      <td>1</td>\n",
       "      <td>0</td>\n",
       "      <td>96270.64</td>\n",
       "      <td>0</td>\n",
       "    </tr>\n",
       "    <tr>\n",
       "      <th>9996</th>\n",
       "      <td>9997</td>\n",
       "      <td>15569892</td>\n",
       "      <td>Johnstone</td>\n",
       "      <td>516</td>\n",
       "      <td>France</td>\n",
       "      <td>Male</td>\n",
       "      <td>35</td>\n",
       "      <td>10</td>\n",
       "      <td>57369.61</td>\n",
       "      <td>1</td>\n",
       "      <td>1</td>\n",
       "      <td>1</td>\n",
       "      <td>101699.77</td>\n",
       "      <td>0</td>\n",
       "    </tr>\n",
       "    <tr>\n",
       "      <th>9997</th>\n",
       "      <td>9998</td>\n",
       "      <td>15584532</td>\n",
       "      <td>Liu</td>\n",
       "      <td>709</td>\n",
       "      <td>France</td>\n",
       "      <td>Female</td>\n",
       "      <td>36</td>\n",
       "      <td>7</td>\n",
       "      <td>0.00</td>\n",
       "      <td>1</td>\n",
       "      <td>0</td>\n",
       "      <td>1</td>\n",
       "      <td>42085.58</td>\n",
       "      <td>1</td>\n",
       "    </tr>\n",
       "    <tr>\n",
       "      <th>9998</th>\n",
       "      <td>9999</td>\n",
       "      <td>15682355</td>\n",
       "      <td>Sabbatini</td>\n",
       "      <td>772</td>\n",
       "      <td>Germany</td>\n",
       "      <td>Male</td>\n",
       "      <td>42</td>\n",
       "      <td>3</td>\n",
       "      <td>75075.31</td>\n",
       "      <td>2</td>\n",
       "      <td>1</td>\n",
       "      <td>0</td>\n",
       "      <td>92888.52</td>\n",
       "      <td>1</td>\n",
       "    </tr>\n",
       "    <tr>\n",
       "      <th>9999</th>\n",
       "      <td>10000</td>\n",
       "      <td>15628319</td>\n",
       "      <td>Walker</td>\n",
       "      <td>792</td>\n",
       "      <td>France</td>\n",
       "      <td>Female</td>\n",
       "      <td>28</td>\n",
       "      <td>4</td>\n",
       "      <td>130142.79</td>\n",
       "      <td>1</td>\n",
       "      <td>1</td>\n",
       "      <td>0</td>\n",
       "      <td>38190.78</td>\n",
       "      <td>0</td>\n",
       "    </tr>\n",
       "  </tbody>\n",
       "</table>\n",
       "<p>10000 rows × 14 columns</p>\n",
       "</div>"
      ],
      "text/plain": [
       "      RowNumber  CustomerId    Surname  CreditScore Geography  Gender  Age  \\\n",
       "0             1    15634602   Hargrave          619    France  Female   42   \n",
       "1             2    15647311       Hill          608     Spain  Female   41   \n",
       "2             3    15619304       Onio          502    France  Female   42   \n",
       "3             4    15701354       Boni          699    France  Female   39   \n",
       "4             5    15737888   Mitchell          850     Spain  Female   43   \n",
       "...         ...         ...        ...          ...       ...     ...  ...   \n",
       "9995       9996    15606229   Obijiaku          771    France    Male   39   \n",
       "9996       9997    15569892  Johnstone          516    France    Male   35   \n",
       "9997       9998    15584532        Liu          709    France  Female   36   \n",
       "9998       9999    15682355  Sabbatini          772   Germany    Male   42   \n",
       "9999      10000    15628319     Walker          792    France  Female   28   \n",
       "\n",
       "      Tenure    Balance  NumOfProducts  HasCrCard  IsActiveMember  \\\n",
       "0          2       0.00              1          1               1   \n",
       "1          1   83807.86              1          0               1   \n",
       "2          8  159660.80              3          1               0   \n",
       "3          1       0.00              2          0               0   \n",
       "4          2  125510.82              1          1               1   \n",
       "...      ...        ...            ...        ...             ...   \n",
       "9995       5       0.00              2          1               0   \n",
       "9996      10   57369.61              1          1               1   \n",
       "9997       7       0.00              1          0               1   \n",
       "9998       3   75075.31              2          1               0   \n",
       "9999       4  130142.79              1          1               0   \n",
       "\n",
       "      EstimatedSalary  Exited  \n",
       "0           101348.88       1  \n",
       "1           112542.58       0  \n",
       "2           113931.57       1  \n",
       "3            93826.63       0  \n",
       "4            79084.10       0  \n",
       "...               ...     ...  \n",
       "9995         96270.64       0  \n",
       "9996        101699.77       0  \n",
       "9997         42085.58       1  \n",
       "9998         92888.52       1  \n",
       "9999         38190.78       0  \n",
       "\n",
       "[10000 rows x 14 columns]"
      ]
     },
     "execution_count": 17,
     "metadata": {},
     "output_type": "execute_result"
    }
   ],
   "source": [
    "df = pd.read_csv(\"./churn.csv\")\n",
    "df"
   ]
  },
  {
   "cell_type": "code",
   "execution_count": 18,
   "id": "1faf440d",
   "metadata": {
    "ExecuteTime": {
     "end_time": "2023-03-21T09:38:42.426345Z",
     "start_time": "2023-03-21T09:38:42.384858Z"
    }
   },
   "outputs": [
    {
     "data": {
      "text/plain": [
       "(array([[ 0.64609167,  0.29351742,  0.02188649, ..., -0.32622142,\n",
       "         -1.04175968,  0.        ],\n",
       "        [-1.54776799,  0.19816383,  0.21653375, ..., -0.44003595,\n",
       "         -1.38753759,  2.        ],\n",
       "        [ 0.64609167,  0.29351742,  0.2406869 , ..., -1.53679418,\n",
       "          1.03290776,  0.        ],\n",
       "        ...,\n",
       "        [-1.54776799, -0.27860412, -1.00864308, ...,  0.60498839,\n",
       "          0.68712986,  0.        ],\n",
       "        [ 0.64609167,  0.29351742, -0.12523071, ...,  1.25683526,\n",
       "         -0.69598177,  1.        ],\n",
       "        [ 0.64609167, -1.04143285, -1.07636976, ...,  1.46377078,\n",
       "         -0.35020386,  0.        ]]),\n",
       " (10000, 9))"
      ]
     },
     "execution_count": 18,
     "metadata": {},
     "output_type": "execute_result"
    }
   ],
   "source": [
    "from sklearn.base import BaseEstimator, TransformerMixin\n",
    "from sklearn.pipeline import Pipeline\n",
    "from sklearn.compose import ColumnTransformer\n",
    "\n",
    "# 수치형과 범주형 데이터 구분\n",
    "num_attrs = [\n",
    "    'RowNumber', 'CustomerId', 'CreditScore',\n",
    "    'Age', 'Tenure', 'Balance', 'NumOfProducts', 'HasCrCard',\n",
    "    'IsActiveMember', 'EstimatedSalary'\n",
    "]\n",
    "\n",
    "cat_attrs = ['Surname', 'Geography', 'Gender']\n",
    "\n",
    "\n",
    "# Drop Features\n",
    "drop_attrs = ['RowNumber', 'CustomerId', 'Surname', 'Gender']\n",
    "df = df.drop(columns=drop_attrs)\n",
    "\n",
    "# update attrs\n",
    "num_attrs = list(set(num_attrs) - set(drop_attrs))\n",
    "cat_attrs = list(set(cat_attrs) - set(drop_attrs))\n",
    "\n",
    "\n",
    "full_pipeline = ColumnTransformer([\n",
    "    ('num-preprocess', StandardScaler(), num_attrs), \n",
    "    ('enc-preprocess', OrdinalEncoder(), cat_attrs)\n",
    "])\n",
    "\n",
    "prepared = full_pipeline.fit_transform(df)\n",
    "prepared, prepared.shape"
   ]
  },
  {
   "cell_type": "markdown",
   "id": "288e3a5a",
   "metadata": {},
   "source": [
    "### Model Train & Test"
   ]
  },
  {
   "cell_type": "code",
   "execution_count": 19,
   "id": "363c1a77",
   "metadata": {
    "ExecuteTime": {
     "end_time": "2023-03-21T09:38:46.653261Z",
     "start_time": "2023-03-21T09:38:46.625639Z"
    }
   },
   "outputs": [],
   "source": [
    "# split\n",
    "X = prepared\n",
    "y = df['Exited'].values\n",
    "\n",
    "# split\n",
    "from sklearn.model_selection import train_test_split\n",
    "train_x, test_x, train_y, test_y = train_test_split(X, y, test_size=0.2, random_state=42)"
   ]
  },
  {
   "cell_type": "code",
   "execution_count": 20,
   "id": "cc0b9a87",
   "metadata": {
    "ExecuteTime": {
     "end_time": "2023-03-21T09:38:49.104998Z",
     "start_time": "2023-03-21T09:38:48.077150Z"
    }
   },
   "outputs": [
    {
     "data": {
      "text/html": [
       "<style>#sk-container-id-5 {color: black;background-color: white;}#sk-container-id-5 pre{padding: 0;}#sk-container-id-5 div.sk-toggleable {background-color: white;}#sk-container-id-5 label.sk-toggleable__label {cursor: pointer;display: block;width: 100%;margin-bottom: 0;padding: 0.3em;box-sizing: border-box;text-align: center;}#sk-container-id-5 label.sk-toggleable__label-arrow:before {content: \"▸\";float: left;margin-right: 0.25em;color: #696969;}#sk-container-id-5 label.sk-toggleable__label-arrow:hover:before {color: black;}#sk-container-id-5 div.sk-estimator:hover label.sk-toggleable__label-arrow:before {color: black;}#sk-container-id-5 div.sk-toggleable__content {max-height: 0;max-width: 0;overflow: hidden;text-align: left;background-color: #f0f8ff;}#sk-container-id-5 div.sk-toggleable__content pre {margin: 0.2em;color: black;border-radius: 0.25em;background-color: #f0f8ff;}#sk-container-id-5 input.sk-toggleable__control:checked~div.sk-toggleable__content {max-height: 200px;max-width: 100%;overflow: auto;}#sk-container-id-5 input.sk-toggleable__control:checked~label.sk-toggleable__label-arrow:before {content: \"▾\";}#sk-container-id-5 div.sk-estimator input.sk-toggleable__control:checked~label.sk-toggleable__label {background-color: #d4ebff;}#sk-container-id-5 div.sk-label input.sk-toggleable__control:checked~label.sk-toggleable__label {background-color: #d4ebff;}#sk-container-id-5 input.sk-hidden--visually {border: 0;clip: rect(1px 1px 1px 1px);clip: rect(1px, 1px, 1px, 1px);height: 1px;margin: -1px;overflow: hidden;padding: 0;position: absolute;width: 1px;}#sk-container-id-5 div.sk-estimator {font-family: monospace;background-color: #f0f8ff;border: 1px dotted black;border-radius: 0.25em;box-sizing: border-box;margin-bottom: 0.5em;}#sk-container-id-5 div.sk-estimator:hover {background-color: #d4ebff;}#sk-container-id-5 div.sk-parallel-item::after {content: \"\";width: 100%;border-bottom: 1px solid gray;flex-grow: 1;}#sk-container-id-5 div.sk-label:hover label.sk-toggleable__label {background-color: #d4ebff;}#sk-container-id-5 div.sk-serial::before {content: \"\";position: absolute;border-left: 1px solid gray;box-sizing: border-box;top: 0;bottom: 0;left: 50%;z-index: 0;}#sk-container-id-5 div.sk-serial {display: flex;flex-direction: column;align-items: center;background-color: white;padding-right: 0.2em;padding-left: 0.2em;position: relative;}#sk-container-id-5 div.sk-item {position: relative;z-index: 1;}#sk-container-id-5 div.sk-parallel {display: flex;align-items: stretch;justify-content: center;background-color: white;position: relative;}#sk-container-id-5 div.sk-item::before, #sk-container-id-5 div.sk-parallel-item::before {content: \"\";position: absolute;border-left: 1px solid gray;box-sizing: border-box;top: 0;bottom: 0;left: 50%;z-index: -1;}#sk-container-id-5 div.sk-parallel-item {display: flex;flex-direction: column;z-index: 1;position: relative;background-color: white;}#sk-container-id-5 div.sk-parallel-item:first-child::after {align-self: flex-end;width: 50%;}#sk-container-id-5 div.sk-parallel-item:last-child::after {align-self: flex-start;width: 50%;}#sk-container-id-5 div.sk-parallel-item:only-child::after {width: 0;}#sk-container-id-5 div.sk-dashed-wrapped {border: 1px dashed gray;margin: 0 0.4em 0.5em 0.4em;box-sizing: border-box;padding-bottom: 0.4em;background-color: white;}#sk-container-id-5 div.sk-label label {font-family: monospace;font-weight: bold;display: inline-block;line-height: 1.2em;}#sk-container-id-5 div.sk-label-container {text-align: center;}#sk-container-id-5 div.sk-container {/* jupyter's `normalize.less` sets `[hidden] { display: none; }` but bootstrap.min.css set `[hidden] { display: none !important; }` so we also need the `!important` here to be able to override the default hidden behavior on the sphinx rendered scikit-learn.org. See: https://github.com/scikit-learn/scikit-learn/issues/21755 */display: inline-block !important;position: relative;}#sk-container-id-5 div.sk-text-repr-fallback {display: none;}</style><div id=\"sk-container-id-5\" class=\"sk-top-container\"><div class=\"sk-text-repr-fallback\"><pre>RandomForestClassifier(random_state=42)</pre><b>In a Jupyter environment, please rerun this cell to show the HTML representation or trust the notebook. <br />On GitHub, the HTML representation is unable to render, please try loading this page with nbviewer.org.</b></div><div class=\"sk-container\" hidden><div class=\"sk-item\"><div class=\"sk-estimator sk-toggleable\"><input class=\"sk-toggleable__control sk-hidden--visually\" id=\"sk-estimator-id-5\" type=\"checkbox\" checked><label for=\"sk-estimator-id-5\" class=\"sk-toggleable__label sk-toggleable__label-arrow\">RandomForestClassifier</label><div class=\"sk-toggleable__content\"><pre>RandomForestClassifier(random_state=42)</pre></div></div></div></div></div>"
      ],
      "text/plain": [
       "RandomForestClassifier(random_state=42)"
      ]
     },
     "execution_count": 20,
     "metadata": {},
     "output_type": "execute_result"
    }
   ],
   "source": [
    "# 랜덤 포레스트\n",
    "model = RandomForestClassifier(random_state=42)\n",
    "model.fit(train_x, train_y)"
   ]
  },
  {
   "cell_type": "code",
   "execution_count": 21,
   "id": "9a978c00",
   "metadata": {
    "ExecuteTime": {
     "end_time": "2023-03-21T09:38:50.514370Z",
     "start_time": "2023-03-21T09:38:50.420301Z"
    }
   },
   "outputs": [
    {
     "data": {
      "text/plain": [
       "array([0, 0, 0, ..., 1, 0, 0])"
      ]
     },
     "execution_count": 21,
     "metadata": {},
     "output_type": "execute_result"
    }
   ],
   "source": [
    "# predict\n",
    "pred = model.predict(test_x)\n",
    "pred"
   ]
  },
  {
   "cell_type": "code",
   "execution_count": 22,
   "id": "74250035",
   "metadata": {
    "ExecuteTime": {
     "end_time": "2023-03-21T09:38:52.615313Z",
     "start_time": "2023-03-21T09:38:52.543746Z"
    }
   },
   "outputs": [
    {
     "data": {
      "text/plain": [
       "0.8665"
      ]
     },
     "execution_count": 22,
     "metadata": {},
     "output_type": "execute_result"
    }
   ],
   "source": [
    "# mean accuracy\n",
    "model.score(test_x, test_y)"
   ]
  },
  {
   "cell_type": "code",
   "execution_count": 23,
   "id": "99ffa4ce",
   "metadata": {
    "ExecuteTime": {
     "end_time": "2023-03-21T09:38:53.778933Z",
     "start_time": "2023-03-21T09:38:53.769126Z"
    }
   },
   "outputs": [
    {
     "data": {
      "text/plain": [
       "0.7507271624768759"
      ]
     },
     "execution_count": 23,
     "metadata": {},
     "output_type": "execute_result"
    }
   ],
   "source": [
    "# f1_score\n",
    "f1_score(test_y, pred, average='macro')"
   ]
  },
  {
   "cell_type": "code",
   "execution_count": 24,
   "id": "b127ca73",
   "metadata": {
    "ExecuteTime": {
     "end_time": "2023-03-21T09:38:55.265752Z",
     "start_time": "2023-03-21T09:38:55.231904Z"
    }
   },
   "outputs": [
    {
     "data": {
      "text/html": [
       "<style type=\"text/css\">\n",
       "#T_ff606_row0_col0, #T_ff606_row0_col3, #T_ff606_row0_col7, #T_ff606_row0_col8 {\n",
       "  background-color: #666666;\n",
       "  color: #f1f1f1;\n",
       "}\n",
       "#T_ff606_row0_col1, #T_ff606_row0_col2, #T_ff606_row0_col4, #T_ff606_row0_col5, #T_ff606_row0_col6 {\n",
       "  background-color: #bf5b17;\n",
       "  color: #f1f1f1;\n",
       "}\n",
       "</style>\n",
       "<table id=\"T_ff606\">\n",
       "  <thead>\n",
       "    <tr>\n",
       "      <th class=\"blank level0\" >&nbsp;</th>\n",
       "      <th id=\"T_ff606_level0_col0\" class=\"col_heading level0 col0\" >HasCrCard</th>\n",
       "      <th id=\"T_ff606_level0_col1\" class=\"col_heading level0 col1\" >Age</th>\n",
       "      <th id=\"T_ff606_level0_col2\" class=\"col_heading level0 col2\" >EstimatedSalary</th>\n",
       "      <th id=\"T_ff606_level0_col3\" class=\"col_heading level0 col3\" >IsActiveMember</th>\n",
       "      <th id=\"T_ff606_level0_col4\" class=\"col_heading level0 col4\" >Balance</th>\n",
       "      <th id=\"T_ff606_level0_col5\" class=\"col_heading level0 col5\" >NumOfProducts</th>\n",
       "      <th id=\"T_ff606_level0_col6\" class=\"col_heading level0 col6\" >CreditScore</th>\n",
       "      <th id=\"T_ff606_level0_col7\" class=\"col_heading level0 col7\" >Tenure</th>\n",
       "      <th id=\"T_ff606_level0_col8\" class=\"col_heading level0 col8\" >Geography</th>\n",
       "    </tr>\n",
       "  </thead>\n",
       "  <tbody>\n",
       "    <tr>\n",
       "      <th id=\"T_ff606_level0_row0\" class=\"row_heading level0 row0\" >0</th>\n",
       "      <td id=\"T_ff606_row0_col0\" class=\"data row0 col0\" >0.019071</td>\n",
       "      <td id=\"T_ff606_row0_col1\" class=\"data row0 col1\" >0.242399</td>\n",
       "      <td id=\"T_ff606_row0_col2\" class=\"data row0 col2\" >0.153857</td>\n",
       "      <td id=\"T_ff606_row0_col3\" class=\"data row0 col3\" >0.044089</td>\n",
       "      <td id=\"T_ff606_row0_col4\" class=\"data row0 col4\" >0.142829</td>\n",
       "      <td id=\"T_ff606_row0_col5\" class=\"data row0 col5\" >0.131122</td>\n",
       "      <td id=\"T_ff606_row0_col6\" class=\"data row0 col6\" >0.147351</td>\n",
       "      <td id=\"T_ff606_row0_col7\" class=\"data row0 col7\" >0.082965</td>\n",
       "      <td id=\"T_ff606_row0_col8\" class=\"data row0 col8\" >0.036317</td>\n",
       "    </tr>\n",
       "  </tbody>\n",
       "</table>\n"
      ],
      "text/plain": [
       "<pandas.io.formats.style.Styler at 0x7f9551093280>"
      ]
     },
     "execution_count": 24,
     "metadata": {},
     "output_type": "execute_result"
    }
   ],
   "source": [
    "# feature importances\n",
    "col_names = num_attrs + cat_attrs\n",
    "importances = pd.DataFrame(model.feature_importances_.reshape(model.n_features_in_, -1)).T\n",
    "importances.columns = col_names\n",
    "importances.style.background_gradient(vmin=0, vmax=1, cmap='Accent_r')"
   ]
  },
  {
   "cell_type": "markdown",
   "id": "e1674179",
   "metadata": {},
   "source": [
    "#### cross-validation score"
   ]
  },
  {
   "cell_type": "code",
   "execution_count": 25,
   "id": "85ac2b74",
   "metadata": {
    "ExecuteTime": {
     "end_time": "2023-03-21T09:39:10.314185Z",
     "start_time": "2023-03-21T09:39:06.223053Z"
    }
   },
   "outputs": [
    {
     "data": {
      "text/plain": [
       "0.7442863685224715"
      ]
     },
     "execution_count": 25,
     "metadata": {},
     "output_type": "execute_result"
    }
   ],
   "source": [
    "# Train dataset에 대한 학습(fit)과 CV에 해당함\n",
    "# test dataset에 대한 평가와 비슷한 수치가 나오는 것을 확인할 수 있어\n",
    "# train dataset에 크게 overfitting되지 않았음을 확인할 수 있음\n",
    "from sklearn.model_selection import cross_val_score\n",
    "\n",
    "model = RandomForestClassifier(random_state=42)\n",
    "score = cross_val_score(model, train_x, train_y, scoring='f1_macro', cv=5)\n",
    "score.mean()"
   ]
  },
  {
   "cell_type": "markdown",
   "id": "7c077acd",
   "metadata": {},
   "source": [
    "### hyper-parameter optimization"
   ]
  },
  {
   "cell_type": "markdown",
   "id": "24f040f2",
   "metadata": {},
   "source": [
    "> grid search cv & random search cv"
   ]
  },
  {
   "cell_type": "markdown",
   "id": "4d1b8c42",
   "metadata": {},
   "source": [
    "sklearn에서 제공하는 두 도구를 사용하면 편리하게 optimization 가능하다.  \n",
    "하지만 모든 후보군 학습 과정에서의 디테일한 정보를 추적하는 것에는 한계가 있다.  "
   ]
  },
  {
   "cell_type": "markdown",
   "id": "3a23183f",
   "metadata": {},
   "source": [
    "#### grid search cv"
   ]
  },
  {
   "cell_type": "code",
   "execution_count": 34,
   "id": "a91f3e99",
   "metadata": {
    "ExecuteTime": {
     "end_time": "2023-03-17T05:16:49.226278Z",
     "start_time": "2023-03-17T05:16:22.739837Z"
    },
    "scrolled": true
   },
   "outputs": [
    {
     "name": "stdout",
     "output_type": "stream",
     "text": [
      "Fitting 5 folds for each of 9 candidates, totalling 45 fits\n",
      "[CV] END ......................max_depth=50, n_estimators=65; total time=   0.7s\n",
      "[CV] END ......................max_depth=50, n_estimators=65; total time=   0.7s\n",
      "[CV] END ......................max_depth=50, n_estimators=65; total time=   0.6s\n",
      "[CV] END ......................max_depth=50, n_estimators=65; total time=   0.5s\n",
      "[CV] END ......................max_depth=50, n_estimators=65; total time=   0.5s\n",
      "[CV] END ......................max_depth=50, n_estimators=70; total time=   0.5s\n",
      "[CV] END ......................max_depth=50, n_estimators=70; total time=   0.5s\n",
      "[CV] END ......................max_depth=50, n_estimators=70; total time=   0.6s\n",
      "[CV] END ......................max_depth=50, n_estimators=70; total time=   0.6s\n",
      "[CV] END ......................max_depth=50, n_estimators=70; total time=   0.6s\n",
      "[CV] END ......................max_depth=50, n_estimators=75; total time=   0.6s\n",
      "[CV] END ......................max_depth=50, n_estimators=75; total time=   0.6s\n",
      "[CV] END ......................max_depth=50, n_estimators=75; total time=   0.6s\n",
      "[CV] END ......................max_depth=50, n_estimators=75; total time=   0.6s\n",
      "[CV] END ......................max_depth=50, n_estimators=75; total time=   0.6s\n",
      "[CV] END ......................max_depth=80, n_estimators=65; total time=   0.5s\n",
      "[CV] END ......................max_depth=80, n_estimators=65; total time=   0.5s\n",
      "[CV] END ......................max_depth=80, n_estimators=65; total time=   0.5s\n",
      "[CV] END ......................max_depth=80, n_estimators=65; total time=   0.5s\n",
      "[CV] END ......................max_depth=80, n_estimators=65; total time=   0.6s\n",
      "[CV] END ......................max_depth=80, n_estimators=70; total time=   0.5s\n",
      "[CV] END ......................max_depth=80, n_estimators=70; total time=   0.6s\n",
      "[CV] END ......................max_depth=80, n_estimators=70; total time=   0.6s\n",
      "[CV] END ......................max_depth=80, n_estimators=70; total time=   0.6s\n",
      "[CV] END ......................max_depth=80, n_estimators=70; total time=   0.6s\n",
      "[CV] END ......................max_depth=80, n_estimators=75; total time=   0.6s\n",
      "[CV] END ......................max_depth=80, n_estimators=75; total time=   0.6s\n",
      "[CV] END ......................max_depth=80, n_estimators=75; total time=   0.6s\n",
      "[CV] END ......................max_depth=80, n_estimators=75; total time=   0.6s\n",
      "[CV] END ......................max_depth=80, n_estimators=75; total time=   0.6s\n",
      "[CV] END .....................max_depth=100, n_estimators=65; total time=   0.5s\n",
      "[CV] END .....................max_depth=100, n_estimators=65; total time=   0.6s\n",
      "[CV] END .....................max_depth=100, n_estimators=65; total time=   0.5s\n",
      "[CV] END .....................max_depth=100, n_estimators=65; total time=   0.5s\n",
      "[CV] END .....................max_depth=100, n_estimators=65; total time=   0.5s\n",
      "[CV] END .....................max_depth=100, n_estimators=70; total time=   0.5s\n",
      "[CV] END .....................max_depth=100, n_estimators=70; total time=   0.5s\n",
      "[CV] END .....................max_depth=100, n_estimators=70; total time=   0.5s\n",
      "[CV] END .....................max_depth=100, n_estimators=70; total time=   0.5s\n",
      "[CV] END .....................max_depth=100, n_estimators=70; total time=   0.5s\n",
      "[CV] END .....................max_depth=100, n_estimators=75; total time=   0.6s\n",
      "[CV] END .....................max_depth=100, n_estimators=75; total time=   0.7s\n",
      "[CV] END .....................max_depth=100, n_estimators=75; total time=   0.7s\n",
      "[CV] END .....................max_depth=100, n_estimators=75; total time=   0.6s\n",
      "[CV] END .....................max_depth=100, n_estimators=75; total time=   0.6s\n"
     ]
    },
    {
     "data": {
      "text/html": [
       "<style>#sk-container-id-6 {color: black;background-color: white;}#sk-container-id-6 pre{padding: 0;}#sk-container-id-6 div.sk-toggleable {background-color: white;}#sk-container-id-6 label.sk-toggleable__label {cursor: pointer;display: block;width: 100%;margin-bottom: 0;padding: 0.3em;box-sizing: border-box;text-align: center;}#sk-container-id-6 label.sk-toggleable__label-arrow:before {content: \"▸\";float: left;margin-right: 0.25em;color: #696969;}#sk-container-id-6 label.sk-toggleable__label-arrow:hover:before {color: black;}#sk-container-id-6 div.sk-estimator:hover label.sk-toggleable__label-arrow:before {color: black;}#sk-container-id-6 div.sk-toggleable__content {max-height: 0;max-width: 0;overflow: hidden;text-align: left;background-color: #f0f8ff;}#sk-container-id-6 div.sk-toggleable__content pre {margin: 0.2em;color: black;border-radius: 0.25em;background-color: #f0f8ff;}#sk-container-id-6 input.sk-toggleable__control:checked~div.sk-toggleable__content {max-height: 200px;max-width: 100%;overflow: auto;}#sk-container-id-6 input.sk-toggleable__control:checked~label.sk-toggleable__label-arrow:before {content: \"▾\";}#sk-container-id-6 div.sk-estimator input.sk-toggleable__control:checked~label.sk-toggleable__label {background-color: #d4ebff;}#sk-container-id-6 div.sk-label input.sk-toggleable__control:checked~label.sk-toggleable__label {background-color: #d4ebff;}#sk-container-id-6 input.sk-hidden--visually {border: 0;clip: rect(1px 1px 1px 1px);clip: rect(1px, 1px, 1px, 1px);height: 1px;margin: -1px;overflow: hidden;padding: 0;position: absolute;width: 1px;}#sk-container-id-6 div.sk-estimator {font-family: monospace;background-color: #f0f8ff;border: 1px dotted black;border-radius: 0.25em;box-sizing: border-box;margin-bottom: 0.5em;}#sk-container-id-6 div.sk-estimator:hover {background-color: #d4ebff;}#sk-container-id-6 div.sk-parallel-item::after {content: \"\";width: 100%;border-bottom: 1px solid gray;flex-grow: 1;}#sk-container-id-6 div.sk-label:hover label.sk-toggleable__label {background-color: #d4ebff;}#sk-container-id-6 div.sk-serial::before {content: \"\";position: absolute;border-left: 1px solid gray;box-sizing: border-box;top: 0;bottom: 0;left: 50%;z-index: 0;}#sk-container-id-6 div.sk-serial {display: flex;flex-direction: column;align-items: center;background-color: white;padding-right: 0.2em;padding-left: 0.2em;position: relative;}#sk-container-id-6 div.sk-item {position: relative;z-index: 1;}#sk-container-id-6 div.sk-parallel {display: flex;align-items: stretch;justify-content: center;background-color: white;position: relative;}#sk-container-id-6 div.sk-item::before, #sk-container-id-6 div.sk-parallel-item::before {content: \"\";position: absolute;border-left: 1px solid gray;box-sizing: border-box;top: 0;bottom: 0;left: 50%;z-index: -1;}#sk-container-id-6 div.sk-parallel-item {display: flex;flex-direction: column;z-index: 1;position: relative;background-color: white;}#sk-container-id-6 div.sk-parallel-item:first-child::after {align-self: flex-end;width: 50%;}#sk-container-id-6 div.sk-parallel-item:last-child::after {align-self: flex-start;width: 50%;}#sk-container-id-6 div.sk-parallel-item:only-child::after {width: 0;}#sk-container-id-6 div.sk-dashed-wrapped {border: 1px dashed gray;margin: 0 0.4em 0.5em 0.4em;box-sizing: border-box;padding-bottom: 0.4em;background-color: white;}#sk-container-id-6 div.sk-label label {font-family: monospace;font-weight: bold;display: inline-block;line-height: 1.2em;}#sk-container-id-6 div.sk-label-container {text-align: center;}#sk-container-id-6 div.sk-container {/* jupyter's `normalize.less` sets `[hidden] { display: none; }` but bootstrap.min.css set `[hidden] { display: none !important; }` so we also need the `!important` here to be able to override the default hidden behavior on the sphinx rendered scikit-learn.org. See: https://github.com/scikit-learn/scikit-learn/issues/21755 */display: inline-block !important;position: relative;}#sk-container-id-6 div.sk-text-repr-fallback {display: none;}</style><div id=\"sk-container-id-6\" class=\"sk-top-container\"><div class=\"sk-text-repr-fallback\"><pre>GridSearchCV(cv=5,\n",
       "             estimator=RandomForestClassifier(n_estimators=&lt;class &#x27;__main__.Cfg&#x27;&gt;),\n",
       "             param_grid={&#x27;max_depth&#x27;: [50, 80, 100],\n",
       "                         &#x27;n_estimators&#x27;: [65, 70, 75]},\n",
       "             scoring=&#x27;f1_macro&#x27;, verbose=2)</pre><b>In a Jupyter environment, please rerun this cell to show the HTML representation or trust the notebook. <br />On GitHub, the HTML representation is unable to render, please try loading this page with nbviewer.org.</b></div><div class=\"sk-container\" hidden><div class=\"sk-item sk-dashed-wrapped\"><div class=\"sk-label-container\"><div class=\"sk-label sk-toggleable\"><input class=\"sk-toggleable__control sk-hidden--visually\" id=\"sk-estimator-id-12\" type=\"checkbox\" ><label for=\"sk-estimator-id-12\" class=\"sk-toggleable__label sk-toggleable__label-arrow\">GridSearchCV</label><div class=\"sk-toggleable__content\"><pre>GridSearchCV(cv=5,\n",
       "             estimator=RandomForestClassifier(n_estimators=&lt;class &#x27;__main__.Cfg&#x27;&gt;),\n",
       "             param_grid={&#x27;max_depth&#x27;: [50, 80, 100],\n",
       "                         &#x27;n_estimators&#x27;: [65, 70, 75]},\n",
       "             scoring=&#x27;f1_macro&#x27;, verbose=2)</pre></div></div></div><div class=\"sk-parallel\"><div class=\"sk-parallel-item\"><div class=\"sk-item\"><div class=\"sk-label-container\"><div class=\"sk-label sk-toggleable\"><input class=\"sk-toggleable__control sk-hidden--visually\" id=\"sk-estimator-id-13\" type=\"checkbox\" ><label for=\"sk-estimator-id-13\" class=\"sk-toggleable__label sk-toggleable__label-arrow\">estimator: RandomForestClassifier</label><div class=\"sk-toggleable__content\"><pre>RandomForestClassifier(n_estimators=&lt;class &#x27;__main__.Cfg&#x27;&gt;)</pre></div></div></div><div class=\"sk-serial\"><div class=\"sk-item\"><div class=\"sk-estimator sk-toggleable\"><input class=\"sk-toggleable__control sk-hidden--visually\" id=\"sk-estimator-id-14\" type=\"checkbox\" ><label for=\"sk-estimator-id-14\" class=\"sk-toggleable__label sk-toggleable__label-arrow\">RandomForestClassifier</label><div class=\"sk-toggleable__content\"><pre>RandomForestClassifier(n_estimators=&lt;class &#x27;__main__.Cfg&#x27;&gt;)</pre></div></div></div></div></div></div></div></div></div></div>"
      ],
      "text/plain": [
       "GridSearchCV(cv=5,\n",
       "             estimator=RandomForestClassifier(n_estimators=<class '__main__.Cfg'>),\n",
       "             param_grid={'max_depth': [50, 80, 100],\n",
       "                         'n_estimators': [65, 70, 75]},\n",
       "             scoring='f1_macro', verbose=2)"
      ]
     },
     "execution_count": 34,
     "metadata": {},
     "output_type": "execute_result"
    }
   ],
   "source": [
    "# 랜덤 포레스트의 하이퍼파라미터 default 설정값 지정\n",
    "class Cfg:\n",
    "    n_estimators=100,\n",
    "    criterion='gini', # \"gini\", \"entropy\", \"log_loss\"\n",
    "    max_depth=None,\n",
    "    min_samples_split=2,\n",
    "    min_samples_leaf=1,\n",
    "    min_weight_fraction_leaf=0.0,\n",
    "    max_features='sqrt', # \"sqrt\", \"log2\"\n",
    "    max_leaf_nodes=None,\n",
    "    min_impurity_decrease=0.0,\n",
    "    bootstrap=True,\n",
    "    oob_score=False,\n",
    "    n_jobs=None,\n",
    "    random_state=42, # random_state = 42\n",
    "    verbose=0,\n",
    "    warm_start=False,\n",
    "    class_weight=None,\n",
    "    ccp_alpha=0.0,\n",
    "    max_samples=None,\n",
    "\n",
    "    \n",
    "# GridSearchCV 패키지\n",
    "from sklearn.model_selection import GridSearchCV\n",
    "model = RandomForestClassifier(Cfg)\n",
    "\n",
    "\n",
    "param_grid = {\n",
    "    'max_depth': [50, 80, 100],\n",
    "    'n_estimators': [65, 70, 75]\n",
    "}\n",
    "\n",
    "optimizer = GridSearchCV(estimator=model, param_grid=param_grid, scoring='f1_macro', \n",
    "                         cv=5, verbose=2)\n",
    "\n",
    "# train 데이터를 대상으로 진행하면 cross-validation도 함께 적용되어 train, validation 효과를 볼 수 있다.\n",
    "optimizer.fit(train_x, train_y)"
   ]
  },
  {
   "cell_type": "code",
   "execution_count": 35,
   "id": "ab3878b8",
   "metadata": {
    "ExecuteTime": {
     "end_time": "2023-03-17T05:16:52.185778Z",
     "start_time": "2023-03-17T05:16:52.166006Z"
    }
   },
   "outputs": [
    {
     "name": "stdout",
     "output_type": "stream",
     "text": [
      "0.7500013543253689\n"
     ]
    },
    {
     "data": {
      "text/plain": [
       "{'max_depth': 100, 'n_estimators': 75}"
      ]
     },
     "execution_count": 35,
     "metadata": {},
     "output_type": "execute_result"
    }
   ],
   "source": [
    "# 가장 결과가 좋았던 parameter 조회\n",
    "print(optimizer.best_score_)\n",
    "optimizer.best_params_"
   ]
  },
  {
   "cell_type": "code",
   "execution_count": 36,
   "id": "37b0e86e",
   "metadata": {
    "ExecuteTime": {
     "end_time": "2023-03-17T05:17:03.061541Z",
     "start_time": "2023-03-17T05:17:02.954908Z"
    }
   },
   "outputs": [
    {
     "data": {
      "text/plain": [
       "0.7569168213559622"
      ]
     },
     "execution_count": 36,
     "metadata": {},
     "output_type": "execute_result"
    }
   ],
   "source": [
    "# best 모델에 대해서 test 데이터를 적용해 본다.\n",
    "best_model = optimizer.best_estimator_\n",
    "pred = best_model.predict(test_x)\n",
    "f1_score(test_y, pred, average='macro')"
   ]
  },
  {
   "cell_type": "markdown",
   "id": "b9b674ff",
   "metadata": {},
   "source": [
    "#### grid search 구현"
   ]
  },
  {
   "cell_type": "markdown",
   "id": "cd1d0399",
   "metadata": {},
   "source": [
    "`product 함수를 사용하면 각 리스트들에 대한 모든 조합을 출력할 수 있다.`"
   ]
  },
  {
   "cell_type": "code",
   "execution_count": 37,
   "id": "35b38468",
   "metadata": {
    "ExecuteTime": {
     "end_time": "2023-03-17T05:18:04.068604Z",
     "start_time": "2023-03-17T05:18:04.064113Z"
    }
   },
   "outputs": [],
   "source": [
    "param_grid = {\n",
    "    'max_depth': [50, 80, 100],\n",
    "    'n_estimators': [65, 70, 75]\n",
    "}"
   ]
  },
  {
   "cell_type": "code",
   "execution_count": 38,
   "id": "70df775a",
   "metadata": {
    "ExecuteTime": {
     "end_time": "2023-03-17T05:18:04.497316Z",
     "start_time": "2023-03-17T05:18:04.489747Z"
    }
   },
   "outputs": [
    {
     "name": "stdout",
     "output_type": "stream",
     "text": [
      "{'max_depth': 50, 'n_estimators': 65}\n",
      "{'max_depth': 50, 'n_estimators': 70}\n",
      "{'max_depth': 50, 'n_estimators': 75}\n",
      "{'max_depth': 80, 'n_estimators': 65}\n",
      "{'max_depth': 80, 'n_estimators': 70}\n",
      "{'max_depth': 80, 'n_estimators': 75}\n",
      "{'max_depth': 100, 'n_estimators': 65}\n",
      "{'max_depth': 100, 'n_estimators': 70}\n",
      "{'max_depth': 100, 'n_estimators': 75}\n"
     ]
    }
   ],
   "source": [
    "from itertools import product\n",
    "# product 함수는 여러 튜플 입력 시 튜플 내 모든 조합을 인풋 순서에 따라 순차적으로 출력해준다.\n",
    "# ex) (1, 2, 3), (4, 5, 6) -> (1, 4), (1, 5), (1, 6), (2, 4), ...\n",
    "\n",
    "names = param_grid.keys()\n",
    "value_cand = param_grid.values()\n",
    "\n",
    "\n",
    "for value in product(*value_cand):\n",
    "    params = {key:value for key, value in zip(names, value)}\n",
    "    \n",
    "    print(params)"
   ]
  },
  {
   "cell_type": "markdown",
   "id": "5f15fa84",
   "metadata": {},
   "source": [
    "> Logger 생성"
   ]
  },
  {
   "cell_type": "code",
   "execution_count": 27,
   "id": "0f7182d8",
   "metadata": {
    "ExecuteTime": {
     "end_time": "2023-03-21T09:45:45.172348Z",
     "start_time": "2023-03-21T09:45:45.158877Z"
    }
   },
   "outputs": [],
   "source": [
    "import logging\n",
    "\n",
    "def get_logger(name, dir_, stream=False):\n",
    "    \"\"\"log 데이터 파일 저장\n",
    "    \n",
    "    Args:\n",
    "        name(str): 로그 이름 지정\n",
    "        dir_(str): 로그 파일을 저장할 경로 지정\n",
    "        stream(bool): 콘솔에 로그를 남길지에 대한 유무\n",
    "    \n",
    "    Returns: logging.RootLogger\n",
    "        \n",
    "    \"\"\"\n",
    "    logging.basicConfig(level=logging.INFO)\n",
    "    logger = logging.getLogger(name)\n",
    "    logger.setLevel(logging.INFO)  # logging all levels\n",
    "    logger.handlers.clear()\n",
    "    \n",
    "    formatter = logging.Formatter('%(asctime)s | %(name)s | %(levelname)s | %(message)s')\n",
    "    stream_handler = logging.StreamHandler()\n",
    "    file_handler = logging.FileHandler(os.path.join(dir_, f'{name}.log'))\n",
    "\n",
    "    stream_handler.setFormatter(formatter)\n",
    "    file_handler.setFormatter(formatter)\n",
    "\n",
    "    if stream:\n",
    "        logger.addHandler(stream_handler)\n",
    "    logger.addHandler(file_handler)\n",
    "\n",
    "    return logger"
   ]
  },
  {
   "cell_type": "code",
   "execution_count": 40,
   "id": "d56d7c8c",
   "metadata": {
    "ExecuteTime": {
     "end_time": "2023-03-17T05:19:19.123655Z",
     "start_time": "2023-03-17T05:18:53.282291Z"
    },
    "scrolled": false
   },
   "outputs": [
    {
     "name": "stderr",
     "output_type": "stream",
     "text": [
      "INFO:train_GSCV:-----GRID SEARCH START-----\n",
      "INFO:train_GSCV:Start Date: 20230317_141853\n",
      "INFO:train_GSCV:Configure {'recorder_dir': './', 'model': RandomForestClassifier(), 'param_grid': {'max_depth': [50, 80, 100], 'n_estimators': [65, 70, 75]}, 'metric_info': [<function f1_score at 0x7fb8cafef820>, {'average': 'macro'}], 'cv': 5}\n",
      "\n",
      "INFO:train_GSCV:Fitting 5 folds for each of 9 candidates, totalling 45 fits\n"
     ]
    },
    {
     "data": {
      "application/vnd.jupyter.widget-view+json": {
       "model_id": "8888dfa6d7574c90b86ed0a0abcfb40d",
       "version_major": 2,
       "version_minor": 0
      },
      "text/plain": [
       "  0%|          | 0/9 [00:00<?, ?it/s]"
      ]
     },
     "metadata": {},
     "output_type": "display_data"
    },
    {
     "name": "stderr",
     "output_type": "stream",
     "text": [
      "INFO:train_GSCV:*****CANDIDATE_NO.001 RESULT*****\n",
      "INFO:train_GSCV:Parameters: {'max_depth': 50, 'n_estimators': 65}\n",
      "INFO:train_GSCV:f1_score: 0.7456586849932658\n",
      "INFO:train_GSCV:*****CANDIDATE_NO.002 RESULT*****\n",
      "INFO:train_GSCV:Parameters: {'max_depth': 50, 'n_estimators': 70}\n",
      "INFO:train_GSCV:f1_score: 0.7440586800870628\n",
      "INFO:train_GSCV:*****CANDIDATE_NO.003 RESULT*****\n",
      "INFO:train_GSCV:Parameters: {'max_depth': 50, 'n_estimators': 75}\n",
      "INFO:train_GSCV:f1_score: 0.7465787516197527\n",
      "INFO:train_GSCV:*****CANDIDATE_NO.004 RESULT*****\n",
      "INFO:train_GSCV:Parameters: {'max_depth': 80, 'n_estimators': 65}\n",
      "INFO:train_GSCV:f1_score: 0.7447371889387937\n",
      "INFO:train_GSCV:*****CANDIDATE_NO.005 RESULT*****\n",
      "INFO:train_GSCV:Parameters: {'max_depth': 80, 'n_estimators': 70}\n",
      "INFO:train_GSCV:f1_score: 0.7420072956640134\n",
      "INFO:train_GSCV:*****CANDIDATE_NO.006 RESULT*****\n",
      "INFO:train_GSCV:Parameters: {'max_depth': 80, 'n_estimators': 75}\n",
      "INFO:train_GSCV:f1_score: 0.7477835651652415\n",
      "INFO:train_GSCV:*****CANDIDATE_NO.007 RESULT*****\n",
      "INFO:train_GSCV:Parameters: {'max_depth': 100, 'n_estimators': 65}\n",
      "INFO:train_GSCV:f1_score: 0.7492974881520743\n",
      "INFO:train_GSCV:*****CANDIDATE_NO.008 RESULT*****\n",
      "INFO:train_GSCV:Parameters: {'max_depth': 100, 'n_estimators': 70}\n",
      "INFO:train_GSCV:f1_score: 0.746782851657161\n",
      "INFO:train_GSCV:*****CANDIDATE_NO.009 RESULT*****\n",
      "INFO:train_GSCV:Parameters: {'max_depth': 100, 'n_estimators': 75}\n",
      "INFO:train_GSCV:f1_score: 0.7441894138779875\n",
      "INFO:train_GSCV:*****ITERATION END*****\n",
      "INFO:train_GSCV:Best Score: 0.7492974881520743  Best Params: {'max_depth': 100, 'n_estimators': 65}\n",
      "INFO:train_GSCV:-----GRID SEARCH END-----\n",
      "\n"
     ]
    }
   ],
   "source": [
    "from sklearn.model_selection import KFold\n",
    "from sklearn.metrics import f1_score\n",
    "from sklearn.ensemble import RandomForestClassifier\n",
    "from datetime import datetime, timezone, timedelta \n",
    "from tqdm.notebook import tqdm\n",
    "from itertools import product\n",
    "import os\n",
    "\n",
    "# grid search 함수에 필요한 파라미터 설정\n",
    "config = {\n",
    "    'recorder_dir': './',\n",
    "    'model': 'RandomForestClassifier',\n",
    "    'param_grid': {\n",
    "        'max_depth': [50, 80, 100],\n",
    "        'n_estimators': [65, 70, 75]\n",
    "    },\n",
    "    'metric_info': ['f1_score', {'average': 'macro'}],\n",
    "    'cv': 5\n",
    "}\n",
    "\n",
    "\n",
    "def grid_search_cv(X, y, model, param_grid, cv, metric_info, recorder_dir):\n",
    "    \"\"\"Grid Search CV를 실행합니다.\n",
    "        \n",
    "    Args:\n",
    "        X(array): X data\n",
    "        y(array): label data\n",
    "        model(str): 모델함수명\n",
    "        param_grid(dict): GridSearch에 적용할 파라미터 범위\n",
    "            {'파라미터명': [값1, 값2, ...]}\n",
    "        cv(int): cross_validation 개수\n",
    "        metric_info(list): 평가지표 및 평가지표의 파라미터 설정\n",
    "            ['평가지표함수', {'파라미터1': '값'...}]\n",
    "        recorder_dir(str): log파일 저장 위치\n",
    "    \n",
    "    Returns:\n",
    "        best_score(float)\n",
    "        best_params(dict)\n",
    "    \n",
    "    \"\"\"\n",
    "    \n",
    "    # train serial (튜닝 시작 시간을 따로 기록해둔다.)\n",
    "    kst = timezone(timedelta(hours=9)) # 우리나라는 UTC 기준으로 9시간 빠름\n",
    "    train_serial = datetime.now(tz=kst).strftime(\"%Y%m%d_%H%M%S\")\n",
    "    \n",
    "    # get logger\n",
    "    logger = get_logger(name=f'train_GSCV', dir_=recorder_dir, stream=False)\n",
    "    logger.info(f\"-----GRID SEARCH START-----\")\n",
    "    logger.info(f\"Start Date: {train_serial}\")\n",
    "    logger.info(f\"Configure {config}\\n\")\n",
    "    \n",
    "    score_list = []\n",
    "    params_list = []\n",
    "    \n",
    "    names = param_grid.keys() # parameter names\n",
    "    value_cand = param_grid.values() # value candidate\n",
    "\n",
    "    # itertools의 product 함수는 여러 튜플 입력 시 튜플 내 모든 조합을 인풋 순서에 따라 순차적으로 출력해준다.\n",
    "    # ex) (1, 2, 3), (4, 5, 6) -> (1, 4), (1, 5), (1, 6), (2, 4), ...\n",
    "    \n",
    "    # 모든 조합의 수\n",
    "    candidates = 1\n",
    "    for cand in value_cand:\n",
    "        candidates *= len(cand)\n",
    "    \n",
    "    # log information\n",
    "    logger.info(f\"Fitting {cv} folds for each of {candidates} candidates, totalling {candidates*cv} fits\")\n",
    "    \n",
    "    for i, value in zip(tqdm(range(candidates), leave=False), product(*value_cand)): # asterisk를 붙여야 리스트를 인식한다.\n",
    "        params = {key:value for key, value in zip(names, value)}\n",
    "\n",
    "        # k-fold CV\n",
    "        avg_score = 0\n",
    "\n",
    "        k_fold = KFold(n_splits=cv, shuffle=False)\n",
    "        for train_idx, test_idx in k_fold.split(X):\n",
    "            train_x, train_y = X[train_idx, :], y[train_idx]\n",
    "            test_x, test_y = X[test_idx, :], y[test_idx]\n",
    "\n",
    "            # train, predict\n",
    "            model_ = eval(model)\n",
    "            model_ = model_(**params)\n",
    "            model_.fit(train_x, train_y)\n",
    "            pred = model_.predict(test_x)\n",
    "\n",
    "            # metric\n",
    "            metric_, metric_params = eval(metric_info[0]), metric_info[1]\n",
    "            score = metric_(test_y, pred, **metric_params)\n",
    "\n",
    "            # update avg_score\n",
    "            avg_score += score / cv\n",
    "        \n",
    "        # collect\n",
    "        score_list.append(avg_score)\n",
    "        params_list.append(params)\n",
    "\n",
    "        logger.info(f\"*****CANDIDATE_NO.{str(i+1).zfill(3)} RESULT*****\")\n",
    "        logger.info(f\"Parameters: {params}\")\n",
    "        logger.info(f\"{metric_.__name__}: {avg_score}\")\n",
    "    \n",
    "    # Final Result\n",
    "    best_score = max(score_list)\n",
    "    best_params = params_list[score_list.index(best_score)]\n",
    "    logger.info(f\"*****ITERATION END*****\")\n",
    "    logger.info(f\"Best Score: {best_score}  Best Params: {params_list[score_list.index(best_score)]}\")\n",
    "    logger.info(f\"-----GRID SEARCH END-----\\n\")\n",
    "    \n",
    "    return best_score, best_params\n",
    "\n",
    "# Run\n",
    "best_score, best_params = grid_search_cv(train_x, train_y, **config)        "
   ]
  },
  {
   "cell_type": "code",
   "execution_count": 50,
   "id": "5e656d4b",
   "metadata": {
    "ExecuteTime": {
     "end_time": "2023-03-17T05:25:45.774601Z",
     "start_time": "2023-03-17T05:25:45.764370Z"
    }
   },
   "outputs": [
    {
     "data": {
      "text/plain": [
       "{'max_depth': 100, 'n_estimators': 65}"
      ]
     },
     "execution_count": 50,
     "metadata": {},
     "output_type": "execute_result"
    }
   ],
   "source": [
    "best_params"
   ]
  },
  {
   "cell_type": "code",
   "execution_count": 51,
   "id": "9263b11a",
   "metadata": {
    "ExecuteTime": {
     "end_time": "2023-03-17T05:25:47.255448Z",
     "start_time": "2023-03-17T05:25:46.594126Z"
    }
   },
   "outputs": [
    {
     "data": {
      "text/plain": [
       "0.7636563195035495"
      ]
     },
     "execution_count": 51,
     "metadata": {},
     "output_type": "execute_result"
    }
   ],
   "source": [
    "# test 데이터로 평가\n",
    "best_model = RandomForestClassifier(random_state=42, **best_params).fit(train_x, train_y)\n",
    "pred = best_model.predict(test_x)\n",
    "f1_score(test_y, pred, average='macro')"
   ]
  },
  {
   "cell_type": "markdown",
   "id": "f18c9374",
   "metadata": {},
   "source": [
    "#### random search\n",
    "\n",
    "GridSearch로 어느정도 폭을 좁혔으므로 Rondom Search로 전환\n"
   ]
  },
  {
   "cell_type": "markdown",
   "id": "6c8e35ff",
   "metadata": {},
   "source": [
    "> Random Search 구현"
   ]
  },
  {
   "cell_type": "code",
   "execution_count": 52,
   "id": "6e14c1db",
   "metadata": {
    "ExecuteTime": {
     "end_time": "2023-03-17T05:32:16.628674Z",
     "start_time": "2023-03-17T05:31:24.499212Z"
    },
    "scrolled": true
   },
   "outputs": [
    {
     "name": "stderr",
     "output_type": "stream",
     "text": [
      "INFO:train_RSCV:-----RANDOM SEARCH START-----\n",
      "INFO:train_RSCV:Start Date: 20230317_143124\n",
      "INFO:train_RSCV:Configure {'recorder_dir': './', 'model': RandomForestClassifier(), 'param_grid': {'max_depth': ([95, 105], 'int'), 'n_estimators': ([60, 70], 'int')}, 'metric_info': [<function f1_score at 0x7fb8cafef820>, {'average': 'macro'}], 'num_iter': 20, 'cv': 5}\n",
      "\n"
     ]
    },
    {
     "data": {
      "application/vnd.jupyter.widget-view+json": {
       "model_id": "",
       "version_major": 2,
       "version_minor": 0
      },
      "text/plain": [
       "  0%|          | 0/20 [00:00<?, ?it/s]"
      ]
     },
     "metadata": {},
     "output_type": "display_data"
    },
    {
     "name": "stderr",
     "output_type": "stream",
     "text": [
      "INFO:train_RSCV:*****ITERATION_001 RESULT*****\n",
      "INFO:train_RSCV:Parameters: {'max_depth': 103, 'n_estimators': 67}\n",
      "INFO:train_RSCV:f1_score: 0.7445461481239134\n",
      "INFO:train_RSCV:*****ITERATION_002 RESULT*****\n",
      "INFO:train_RSCV:Parameters: {'max_depth': 99, 'n_estimators': 66}\n",
      "INFO:train_RSCV:f1_score: 0.7427767317460804\n",
      "INFO:train_RSCV:*****ITERATION_003 RESULT*****\n",
      "INFO:train_RSCV:Parameters: {'max_depth': 103, 'n_estimators': 66}\n",
      "INFO:train_RSCV:f1_score: 0.7448183209396008\n",
      "INFO:train_RSCV:*****ITERATION_004 RESULT*****\n",
      "INFO:train_RSCV:Parameters: {'max_depth': 96, 'n_estimators': 65}\n",
      "INFO:train_RSCV:f1_score: 0.7462728848153729\n",
      "INFO:train_RSCV:*****ITERATION_005 RESULT*****\n",
      "INFO:train_RSCV:Parameters: {'max_depth': 98, 'n_estimators': 68}\n",
      "INFO:train_RSCV:f1_score: 0.7440333982120889\n",
      "INFO:train_RSCV:*****ITERATION_006 RESULT*****\n",
      "INFO:train_RSCV:Parameters: {'max_depth': 97, 'n_estimators': 65}\n",
      "INFO:train_RSCV:f1_score: 0.7483081926438949\n",
      "INFO:train_RSCV:*****ITERATION_007 RESULT*****\n",
      "INFO:train_RSCV:Parameters: {'max_depth': 101, 'n_estimators': 64}\n",
      "INFO:train_RSCV:f1_score: 0.7445160326078054\n",
      "INFO:train_RSCV:*****ITERATION_008 RESULT*****\n",
      "INFO:train_RSCV:Parameters: {'max_depth': 98, 'n_estimators': 66}\n",
      "INFO:train_RSCV:f1_score: 0.7436329574680285\n",
      "INFO:train_RSCV:*****ITERATION_009 RESULT*****\n",
      "INFO:train_RSCV:Parameters: {'max_depth': 105, 'n_estimators': 61}\n",
      "INFO:train_RSCV:f1_score: 0.7436658061921588\n",
      "INFO:train_RSCV:*****ITERATION_010 RESULT*****\n",
      "INFO:train_RSCV:Parameters: {'max_depth': 96, 'n_estimators': 63}\n",
      "INFO:train_RSCV:f1_score: 0.7487942972531743\n",
      "INFO:train_RSCV:*****ITERATION_011 RESULT*****\n",
      "INFO:train_RSCV:Parameters: {'max_depth': 98, 'n_estimators': 69}\n",
      "INFO:train_RSCV:f1_score: 0.7432062487765362\n",
      "INFO:train_RSCV:*****ITERATION_012 RESULT*****\n",
      "INFO:train_RSCV:Parameters: {'max_depth': 103, 'n_estimators': 61}\n",
      "INFO:train_RSCV:f1_score: 0.7392119775366133\n",
      "INFO:train_RSCV:*****ITERATION_013 RESULT*****\n",
      "INFO:train_RSCV:Parameters: {'max_depth': 104, 'n_estimators': 67}\n",
      "INFO:train_RSCV:f1_score: 0.7491405726527888\n",
      "INFO:train_RSCV:*****ITERATION_014 RESULT*****\n",
      "INFO:train_RSCV:Parameters: {'max_depth': 96, 'n_estimators': 69}\n",
      "INFO:train_RSCV:f1_score: 0.7444057590491349\n",
      "INFO:train_RSCV:*****ITERATION_015 RESULT*****\n",
      "INFO:train_RSCV:Parameters: {'max_depth': 95, 'n_estimators': 60}\n",
      "INFO:train_RSCV:f1_score: 0.7432221611967409\n",
      "INFO:train_RSCV:*****ITERATION_016 RESULT*****\n",
      "INFO:train_RSCV:Parameters: {'max_depth': 103, 'n_estimators': 69}\n",
      "INFO:train_RSCV:f1_score: 0.7452618847434945\n",
      "INFO:train_RSCV:*****ITERATION_017 RESULT*****\n",
      "INFO:train_RSCV:Parameters: {'max_depth': 97, 'n_estimators': 62}\n",
      "INFO:train_RSCV:f1_score: 0.7454385878775913\n",
      "INFO:train_RSCV:*****ITERATION_018 RESULT*****\n",
      "INFO:train_RSCV:Parameters: {'max_depth': 101, 'n_estimators': 61}\n",
      "INFO:train_RSCV:f1_score: 0.7457046086275179\n",
      "INFO:train_RSCV:*****ITERATION_019 RESULT*****\n",
      "INFO:train_RSCV:Parameters: {'max_depth': 96, 'n_estimators': 65}\n",
      "INFO:train_RSCV:f1_score: 0.7421049272503605\n",
      "INFO:train_RSCV:*****ITERATION_020 RESULT*****\n",
      "INFO:train_RSCV:Parameters: {'max_depth': 105, 'n_estimators': 61}\n",
      "INFO:train_RSCV:f1_score: 0.7456495162969747\n",
      "INFO:train_RSCV:*****ITERATION END*****\n",
      "INFO:train_RSCV:Best Score: 0.7491405726527888  Best Params: {'max_depth': 104, 'n_estimators': 67}\n",
      "INFO:train_RSCV:-----RANDOM SEARCH END-----\n",
      "\n"
     ]
    }
   ],
   "source": [
    "from sklearn.model_selection import KFold\n",
    "from sklearn.metrics import f1_score\n",
    "from sklearn.ensemble import RandomForestClassifier\n",
    "from datetime import datetime, timezone, timedelta \n",
    "from tqdm.notebook import tqdm\n",
    "import os\n",
    "\n",
    "\n",
    "# random search 함수에 필요한 파라미터 설정\n",
    "config = {\n",
    "    'recorder_dir': './',\n",
    "    'model': 'RandomForestClassifier',\n",
    "    'param_grid': {\n",
    "        'max_depth': ([95, 105], 'int'),\n",
    "        'n_estimators': ([60, 70], 'int'),\n",
    "    },\n",
    "    'metric_info': ['f1_score', {'average': 'macro'}],\n",
    "    'num_iter': 20, \n",
    "    'cv': 5\n",
    "}\n",
    "\n",
    "\n",
    "def random_search_cv(X, y, num_iter, model, param_grid, cv, metric_info, recorder_dir):\n",
    "    \"\"\"Random Search CV를 실행합니다.\n",
    "        \n",
    "    Args:\n",
    "        X(array): X data\n",
    "        y(array): label data\n",
    "        num_iter(int): iteration 횟수 지정\n",
    "        model(str): 모델함수명\n",
    "        param_grid(dict): RandomSearch에 적용할 파라미터 범위\n",
    "            {'파라미터명': ([최소값: 최대값], 'type')...}\n",
    "        cv(int): cross_validation 개수\n",
    "        metric_info(list): 평가지표 및 평가지표의 파라미터 설정\n",
    "            ['평가지표함수', {'파라미터1': '값'...}]\n",
    "        recorder_dir(str): log파일 저장 위치\n",
    "    \n",
    "    Returns:\n",
    "        best_score(float)\n",
    "        best_params(defaultdict)\n",
    "    \n",
    "    \"\"\"\n",
    "    \n",
    "    # train serial (튜닝 시작 시간을 따로 기록해둔다.)\n",
    "    kst = timezone(timedelta(hours=9)) # 우리나라는 UTC 기준으로 9시간 빠름\n",
    "    train_serial = datetime.now(tz=kst).strftime(\"%Y%m%d_%H%M%S\")\n",
    "    \n",
    "    # get logger\n",
    "    logger = get_logger(name=f'train_RSCV', dir_=recorder_dir, stream=False)\n",
    "    logger.info(f\"-----RANDOM SEARCH START-----\")\n",
    "    logger.info(f\"Start Date: {train_serial}\")\n",
    "    logger.info(f\"Configure {config}\\n\")\n",
    "    \n",
    "    score_list = []\n",
    "    params_list = []\n",
    "    \n",
    "    for i in tqdm(range(num_iter), leave=False):\n",
    "        # hyper-parameter random sampling\n",
    "        params = dict()\n",
    "        for name, value_info in param_grid.items():\n",
    "            if len(value_info[0]) == 1:\n",
    "                params[name] = value_info[0][0]\n",
    "            elif value_info[1] == 'int':\n",
    "                params[name] = np.random.randint(min(value_info[0]), max(value_info[0])+1)\n",
    "            elif value_info[1] == 'float':\n",
    "                params[name] = np.random.uniform(min(value_info[0]), max(value_info[0]))\n",
    "            elif value_info[1] == 'str':\n",
    "                params[name] = np.random.choice(value_info[0])\n",
    "\n",
    "        # k-fold CV\n",
    "        avg_score = 0\n",
    "\n",
    "        k_fold = KFold(n_splits=cv, shuffle=False)\n",
    "        for train_idx, test_idx in k_fold.split(X):\n",
    "            train_x, train_y = X[train_idx, :], y[train_idx]\n",
    "            test_x, test_y = X[test_idx, :], y[test_idx]\n",
    "\n",
    "\n",
    "            # train, predict\n",
    "            model_ = eval(model)\n",
    "            model_ = model_(**params)\n",
    "            model_.fit(train_x, train_y)\n",
    "            pred = model_.predict(test_x)\n",
    "\n",
    "            # metric\n",
    "            metric_, metric_params = eval(metric_info[0]), metric_info[1]\n",
    "            score = metric_(test_y, pred, **metric_params)\n",
    "\n",
    "            # update avg_score\n",
    "            avg_score += score / cv\n",
    "        \n",
    "        # collect\n",
    "        score_list.append(avg_score)\n",
    "        params_list.append(params)\n",
    "\n",
    "        logger.info(f\"*****ITERATION_{str(i+1).zfill(3)} RESULT*****\")\n",
    "        logger.info(f\"Parameters: {params}\")\n",
    "        logger.info(f\"{metric_.__name__}: {avg_score}\")\n",
    "    \n",
    "    # Final Result\n",
    "    best_score = max(score_list)\n",
    "    best_params = params_list[score_list.index(best_score)]\n",
    "    logger.info(f\"*****ITERATION END*****\")\n",
    "    logger.info(f\"Best Score: {best_score}  Best Params: {params_list[score_list.index(best_score)]}\")\n",
    "    logger.info(f\"-----RANDOM SEARCH END-----\\n\")\n",
    "    \n",
    "    return best_score, best_params\n",
    "\n",
    "# Run\n",
    "best_score, best_params = random_search_cv(train_x, train_y, **config)        "
   ]
  },
  {
   "cell_type": "code",
   "execution_count": 53,
   "id": "7566ff0d",
   "metadata": {
    "ExecuteTime": {
     "end_time": "2023-03-17T05:32:24.065103Z",
     "start_time": "2023-03-17T05:32:24.057861Z"
    }
   },
   "outputs": [
    {
     "data": {
      "text/plain": [
       "{'max_depth': 104, 'n_estimators': 67}"
      ]
     },
     "execution_count": 53,
     "metadata": {},
     "output_type": "execute_result"
    }
   ],
   "source": [
    "best_params"
   ]
  },
  {
   "cell_type": "code",
   "execution_count": 54,
   "id": "9cdf9e12",
   "metadata": {
    "ExecuteTime": {
     "end_time": "2023-03-17T05:32:42.125207Z",
     "start_time": "2023-03-17T05:32:41.291497Z"
    }
   },
   "outputs": [
    {
     "data": {
      "text/plain": [
       "0.7599778186397916"
      ]
     },
     "execution_count": 54,
     "metadata": {},
     "output_type": "execute_result"
    }
   ],
   "source": [
    "# test 데이터로 평가\n",
    "best_model = RandomForestClassifier(random_state=42, **best_params).fit(train_x, train_y)\n",
    "pred = best_model.predict(test_x)\n",
    "f1_score(test_y, pred, average='macro')"
   ]
  },
  {
   "cell_type": "markdown",
   "id": "2124f1a0",
   "metadata": {},
   "source": [
    "#### 로그데이터 조회"
   ]
  },
  {
   "cell_type": "code",
   "execution_count": 55,
   "id": "61b7e5d5",
   "metadata": {
    "ExecuteTime": {
     "end_time": "2023-03-17T05:33:59.038416Z",
     "start_time": "2023-03-17T05:33:59.023217Z"
    },
    "scrolled": false
   },
   "outputs": [
    {
     "name": "stdout",
     "output_type": "stream",
     "text": [
      "2023-03-17 14:31:24,516 | train_RSCV | INFO | -----RANDOM SEARCH START-----\n",
      "2023-03-17 14:31:24,517 | train_RSCV | INFO | Start Date: 20230317_143124\n",
      "2023-03-17 14:31:24,519 | train_RSCV | INFO | Configure {'recorder_dir': './', 'model': RandomForestClassifier(), 'param_grid': {'max_depth': ([95, 105], 'int'), 'n_estimators': ([60, 70], 'int')}, 'metric_info': [<function f1_score at 0x7fb8cafef820>, {'average': 'macro'}], 'num_iter': 20, 'cv': 5}\n",
      "\n",
      "2023-03-17 14:31:27,419 | train_RSCV | INFO | *****ITERATION_001 RESULT*****\n",
      "2023-03-17 14:31:27,420 | train_RSCV | INFO | Parameters: {'max_depth': 103, 'n_estimators': 67}\n",
      "2023-03-17 14:31:27,421 | train_RSCV | INFO | f1_score: 0.7445461481239134\n",
      "2023-03-17 14:31:29,993 | train_RSCV | INFO | *****ITERATION_002 RESULT*****\n",
      "2023-03-17 14:31:29,994 | train_RSCV | INFO | Parameters: {'max_depth': 99, 'n_estimators': 66}\n",
      "2023-03-17 14:31:29,995 | train_RSCV | INFO | f1_score: 0.7427767317460804\n",
      "2023-03-17 14:31:32,585 | train_RSCV | INFO | *****ITERATION_003 RESULT*****\n",
      "2023-03-17 14:31:32,586 | train_RSCV | INFO | Parameters: {'max_depth': 103, 'n_estimators': 66}\n",
      "2023-03-17 14:31:32,586 | train_RSCV | INFO | f1_score: 0.7448183209396008\n",
      "2023-03-17 14:31:35,134 | train_RSCV | INFO | *****ITERATION_004 RESULT*****\n",
      "2023-03-17 14:31:35,135 | train_RSCV | INFO | Parameters: {'max_depth': 96, 'n_estimators': 65}\n",
      "2023-03-17 14:31:35,135 | train_RSCV | INFO | f1_score: 0.7462728848153729\n",
      "2023-03-17 14:31:37,919 | train_RSCV | INFO | *****ITERATION_005 RESULT*****\n",
      "2023-03-17 14:31:37,920 | train_RSCV | INFO | Parameters: {'max_depth': 98, 'n_estimators': 68}\n",
      "2023-03-17 14:31:37,920 | train_RSCV | INFO | f1_score: 0.7440333982120889\n",
      "2023-03-17 14:31:40,601 | train_RSCV | INFO | *****ITERATION_006 RESULT*****\n",
      "2023-03-17 14:31:40,602 | train_RSCV | INFO | Parameters: {'max_depth': 97, 'n_estimators': 65}\n",
      "2023-03-17 14:31:40,602 | train_RSCV | INFO | f1_score: 0.7483081926438949\n",
      "2023-03-17 14:31:43,307 | train_RSCV | INFO | *****ITERATION_007 RESULT*****\n",
      "2023-03-17 14:31:43,308 | train_RSCV | INFO | Parameters: {'max_depth': 101, 'n_estimators': 64}\n",
      "2023-03-17 14:31:43,309 | train_RSCV | INFO | f1_score: 0.7445160326078054\n",
      "2023-03-17 14:31:46,008 | train_RSCV | INFO | *****ITERATION_008 RESULT*****\n",
      "2023-03-17 14:31:46,009 | train_RSCV | INFO | Parameters: {'max_depth': 98, 'n_estimators': 66}\n",
      "2023-03-17 14:31:46,010 | train_RSCV | INFO | f1_score: 0.7436329574680285\n",
      "2023-03-17 14:31:48,797 | train_RSCV | INFO | *****ITERATION_009 RESULT*****\n",
      "2023-03-17 14:31:48,799 | train_RSCV | INFO | Parameters: {'max_depth': 105, 'n_estimators': 61}\n",
      "2023-03-17 14:31:48,800 | train_RSCV | INFO | f1_score: 0.7436658061921588\n",
      "2023-03-17 14:31:51,435 | train_RSCV | INFO | *****ITERATION_010 RESULT*****\n",
      "2023-03-17 14:31:51,436 | train_RSCV | INFO | Parameters: {'max_depth': 96, 'n_estimators': 63}\n",
      "2023-03-17 14:31:51,437 | train_RSCV | INFO | f1_score: 0.7487942972531743\n",
      "2023-03-17 14:31:54,123 | train_RSCV | INFO | *****ITERATION_011 RESULT*****\n",
      "2023-03-17 14:31:54,124 | train_RSCV | INFO | Parameters: {'max_depth': 98, 'n_estimators': 69}\n",
      "2023-03-17 14:31:54,124 | train_RSCV | INFO | f1_score: 0.7432062487765362\n",
      "2023-03-17 14:31:56,500 | train_RSCV | INFO | *****ITERATION_012 RESULT*****\n",
      "2023-03-17 14:31:56,505 | train_RSCV | INFO | Parameters: {'max_depth': 103, 'n_estimators': 61}\n",
      "2023-03-17 14:31:56,506 | train_RSCV | INFO | f1_score: 0.7392119775366133\n",
      "2023-03-17 14:31:59,116 | train_RSCV | INFO | *****ITERATION_013 RESULT*****\n",
      "2023-03-17 14:31:59,117 | train_RSCV | INFO | Parameters: {'max_depth': 104, 'n_estimators': 67}\n",
      "2023-03-17 14:31:59,117 | train_RSCV | INFO | f1_score: 0.7491405726527888\n",
      "2023-03-17 14:32:01,852 | train_RSCV | INFO | *****ITERATION_014 RESULT*****\n",
      "2023-03-17 14:32:01,853 | train_RSCV | INFO | Parameters: {'max_depth': 96, 'n_estimators': 69}\n",
      "2023-03-17 14:32:01,853 | train_RSCV | INFO | f1_score: 0.7444057590491349\n",
      "2023-03-17 14:32:04,169 | train_RSCV | INFO | *****ITERATION_015 RESULT*****\n",
      "2023-03-17 14:32:04,170 | train_RSCV | INFO | Parameters: {'max_depth': 95, 'n_estimators': 60}\n",
      "2023-03-17 14:32:04,171 | train_RSCV | INFO | f1_score: 0.7432221611967409\n",
      "2023-03-17 14:32:06,887 | train_RSCV | INFO | *****ITERATION_016 RESULT*****\n",
      "2023-03-17 14:32:06,888 | train_RSCV | INFO | Parameters: {'max_depth': 103, 'n_estimators': 69}\n",
      "2023-03-17 14:32:06,888 | train_RSCV | INFO | f1_score: 0.7452618847434945\n",
      "2023-03-17 14:32:09,302 | train_RSCV | INFO | *****ITERATION_017 RESULT*****\n",
      "2023-03-17 14:32:09,303 | train_RSCV | INFO | Parameters: {'max_depth': 97, 'n_estimators': 62}\n",
      "2023-03-17 14:32:09,303 | train_RSCV | INFO | f1_score: 0.7454385878775913\n",
      "2023-03-17 14:32:11,645 | train_RSCV | INFO | *****ITERATION_018 RESULT*****\n",
      "2023-03-17 14:32:11,646 | train_RSCV | INFO | Parameters: {'max_depth': 101, 'n_estimators': 61}\n",
      "2023-03-17 14:32:11,647 | train_RSCV | INFO | f1_score: 0.7457046086275179\n",
      "2023-03-17 14:32:14,162 | train_RSCV | INFO | *****ITERATION_019 RESULT*****\n",
      "2023-03-17 14:32:14,163 | train_RSCV | INFO | Parameters: {'max_depth': 96, 'n_estimators': 65}\n",
      "2023-03-17 14:32:14,164 | train_RSCV | INFO | f1_score: 0.7421049272503605\n",
      "2023-03-17 14:32:16,618 | train_RSCV | INFO | *****ITERATION_020 RESULT*****\n",
      "2023-03-17 14:32:16,619 | train_RSCV | INFO | Parameters: {'max_depth': 105, 'n_estimators': 61}\n",
      "2023-03-17 14:32:16,620 | train_RSCV | INFO | f1_score: 0.7456495162969747\n",
      "2023-03-17 14:32:16,623 | train_RSCV | INFO | *****ITERATION END*****\n",
      "2023-03-17 14:32:16,624 | train_RSCV | INFO | Best Score: 0.7491405726527888  Best Params: {'max_depth': 104, 'n_estimators': 67}\n",
      "2023-03-17 14:32:16,625 | train_RSCV | INFO | -----RANDOM SEARCH END-----\n",
      "\n"
     ]
    }
   ],
   "source": [
    "# read log file\n",
    "with open(\"train_RSCV.log\", \"r\", encoding='utf-8') as f:\n",
    "    for line in f:\n",
    "        print(line, end=\"\")"
   ]
  },
  {
   "cell_type": "code",
   "execution_count": null,
   "id": "7f881de2",
   "metadata": {},
   "outputs": [],
   "source": []
  }
 ],
 "metadata": {
  "hide_input": false,
  "kernelspec": {
   "display_name": "Python 3 (ipykernel)",
   "language": "python",
   "name": "python3"
  },
  "language_info": {
   "codemirror_mode": {
    "name": "ipython",
    "version": 3
   },
   "file_extension": ".py",
   "mimetype": "text/x-python",
   "name": "python",
   "nbconvert_exporter": "python",
   "pygments_lexer": "ipython3",
   "version": "3.8.11"
  },
  "toc": {
   "base_numbering": 1,
   "nav_menu": {},
   "number_sections": true,
   "sideBar": true,
   "skip_h1_title": false,
   "title_cell": "Table of Contents",
   "title_sidebar": "Contents",
   "toc_cell": false,
   "toc_position": {},
   "toc_section_display": true,
   "toc_window_display": false
  },
  "varInspector": {
   "cols": {
    "lenName": 16,
    "lenType": 16,
    "lenVar": 40
   },
   "kernels_config": {
    "python": {
     "delete_cmd_postfix": "",
     "delete_cmd_prefix": "del ",
     "library": "var_list.py",
     "varRefreshCmd": "print(var_dic_list())"
    },
    "r": {
     "delete_cmd_postfix": ") ",
     "delete_cmd_prefix": "rm(",
     "library": "var_list.r",
     "varRefreshCmd": "cat(var_dic_list()) "
    }
   },
   "types_to_exclude": [
    "module",
    "function",
    "builtin_function_or_method",
    "instance",
    "_Feature"
   ],
   "window_display": false
  }
 },
 "nbformat": 4,
 "nbformat_minor": 5
}
